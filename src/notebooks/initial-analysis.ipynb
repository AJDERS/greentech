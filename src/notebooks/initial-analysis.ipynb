{
 "cells": [
  {
   "cell_type": "code",
   "execution_count": 1,
   "metadata": {},
   "outputs": [],
   "source": [
    "import os\n",
    "import numpy as np\n",
    "import pandas as pd\n",
    "from tqdm import tqdm\n",
    "from sklearn.model_selection import TimeSeriesSplit"
   ]
  },
  {
   "cell_type": "code",
   "execution_count": 2,
   "metadata": {},
   "outputs": [],
   "source": [
    "# Get current working directory\n",
    "cwd = os.getcwd()\n",
    "\n",
    "def load_file(filepath: str) -> pd.DataFrame:\n",
    "    # Check if file exists\n",
    "    if not os.path.exists(filepath):\n",
    "        raise FileNotFoundError(\"File not found\")\n",
    "    \n",
    "    # Read file\n",
    "    try:\n",
    "        df = pd.read_csv(filepath, skiprows=2, header=0, sep=\",\", decimal=\".\")\n",
    "    except:\n",
    "        return None\n",
    "    \n",
    "\n",
    "    # Make new column with entire filepath, and another with just the filename\n",
    "    df[\"filepath\"] = '/'.join(filepath.split(os.sep)[-2:])\n",
    "    df[\"filename\"] = os.path.basename(filepath)\n",
    "    df[\"label\"] = filepath.split(os.sep)[-2].split(\"-\")[-1]\n",
    "\n",
    "    return df\n",
    "\n",
    "def get_all_data(data_folder) -> pd.DataFrame:\n",
    "    # Check if folder exists\n",
    "    if not os.path.exists(data_folder):\n",
    "        raise FileNotFoundError(\"Folder not found\")\n",
    "\n",
    "    # Check if cwd is part of data_folder\n",
    "    if not data_folder.startswith(cwd):\n",
    "        # If not, add cwd to data_folder\n",
    "        data_folder = os.path.join(cwd, data_folder)\n",
    "\n",
    "    # Get all csv files from subfolders of data_folder\n",
    "    dfs = []\n",
    "    for root, dirs, filenames in os.walk(data_folder):\n",
    "        for f in filenames:\n",
    "            if f.endswith(\".CSV\") and not \"Merged\" in f:\n",
    "                df = load_file(os.path.join(root, f))\n",
    "                if df is not None:\n",
    "                    dfs.append(df)\n",
    "    \n",
    "    # Concatenate all dataframes\n",
    "    df = pd.concat(dfs, ignore_index=True)\n",
    "    return df\n",
    "    "
   ]
  },
  {
   "cell_type": "markdown",
   "metadata": {},
   "source": [
    "## Load data"
   ]
  },
  {
   "cell_type": "code",
   "execution_count": 3,
   "metadata": {},
   "outputs": [],
   "source": [
    "# Load data\n",
    "df = get_all_data(\"../../data/raw\")"
   ]
  },
  {
   "cell_type": "markdown",
   "metadata": {},
   "source": [
    "### Simple stats"
   ]
  },
  {
   "cell_type": "code",
   "execution_count": 4,
   "metadata": {},
   "outputs": [
    {
     "name": "stdout",
     "output_type": "stream",
     "text": [
      "<class 'pandas.core.frame.DataFrame'>\n",
      "RangeIndex: 4189920 entries, 0 to 4189919\n",
      "Data columns (total 7 columns):\n",
      " #   Column    Dtype  \n",
      "---  ------    -----  \n",
      " 0   millis    int64  \n",
      " 1   x         float64\n",
      " 2   y         float64\n",
      " 3   z         float64\n",
      " 4   filepath  object \n",
      " 5   filename  object \n",
      " 6   label     object \n",
      "dtypes: float64(3), int64(1), object(3)\n",
      "memory usage: 223.8+ MB\n"
     ]
    }
   ],
   "source": [
    "df.info()"
   ]
  },
  {
   "cell_type": "code",
   "execution_count": 5,
   "metadata": {},
   "outputs": [
    {
     "data": {
      "text/html": [
       "<div>\n",
       "<style scoped>\n",
       "    .dataframe tbody tr th:only-of-type {\n",
       "        vertical-align: middle;\n",
       "    }\n",
       "\n",
       "    .dataframe tbody tr th {\n",
       "        vertical-align: top;\n",
       "    }\n",
       "\n",
       "    .dataframe thead th {\n",
       "        text-align: right;\n",
       "    }\n",
       "</style>\n",
       "<table border=\"1\" class=\"dataframe\">\n",
       "  <thead>\n",
       "    <tr style=\"text-align: right;\">\n",
       "      <th></th>\n",
       "      <th>millis</th>\n",
       "      <th>x</th>\n",
       "      <th>y</th>\n",
       "      <th>z</th>\n",
       "      <th>filepath</th>\n",
       "      <th>filename</th>\n",
       "      <th>label</th>\n",
       "    </tr>\n",
       "  </thead>\n",
       "  <tbody>\n",
       "    <tr>\n",
       "      <th>0</th>\n",
       "      <td>8028</td>\n",
       "      <td>-0.26</td>\n",
       "      <td>1.76</td>\n",
       "      <td>0.77</td>\n",
       "      <td>Test 6-Healthy_Cutting/Test 6.CSV</td>\n",
       "      <td>Test 6.CSV</td>\n",
       "      <td>Healthy_Cutting</td>\n",
       "    </tr>\n",
       "    <tr>\n",
       "      <th>1</th>\n",
       "      <td>8028</td>\n",
       "      <td>-0.31</td>\n",
       "      <td>1.32</td>\n",
       "      <td>0.82</td>\n",
       "      <td>Test 6-Healthy_Cutting/Test 6.CSV</td>\n",
       "      <td>Test 6.CSV</td>\n",
       "      <td>Healthy_Cutting</td>\n",
       "    </tr>\n",
       "    <tr>\n",
       "      <th>2</th>\n",
       "      <td>8028</td>\n",
       "      <td>0.03</td>\n",
       "      <td>1.18</td>\n",
       "      <td>1.01</td>\n",
       "      <td>Test 6-Healthy_Cutting/Test 6.CSV</td>\n",
       "      <td>Test 6.CSV</td>\n",
       "      <td>Healthy_Cutting</td>\n",
       "    </tr>\n",
       "    <tr>\n",
       "      <th>3</th>\n",
       "      <td>8028</td>\n",
       "      <td>-0.26</td>\n",
       "      <td>1.52</td>\n",
       "      <td>0.77</td>\n",
       "      <td>Test 6-Healthy_Cutting/Test 6.CSV</td>\n",
       "      <td>Test 6.CSV</td>\n",
       "      <td>Healthy_Cutting</td>\n",
       "    </tr>\n",
       "    <tr>\n",
       "      <th>4</th>\n",
       "      <td>8028</td>\n",
       "      <td>-0.07</td>\n",
       "      <td>1.32</td>\n",
       "      <td>0.72</td>\n",
       "      <td>Test 6-Healthy_Cutting/Test 6.CSV</td>\n",
       "      <td>Test 6.CSV</td>\n",
       "      <td>Healthy_Cutting</td>\n",
       "    </tr>\n",
       "  </tbody>\n",
       "</table>\n",
       "</div>"
      ],
      "text/plain": [
       "   millis     x     y     z                           filepath    filename  \\\n",
       "0    8028 -0.26  1.76  0.77  Test 6-Healthy_Cutting/Test 6.CSV  Test 6.CSV   \n",
       "1    8028 -0.31  1.32  0.82  Test 6-Healthy_Cutting/Test 6.CSV  Test 6.CSV   \n",
       "2    8028  0.03  1.18  1.01  Test 6-Healthy_Cutting/Test 6.CSV  Test 6.CSV   \n",
       "3    8028 -0.26  1.52  0.77  Test 6-Healthy_Cutting/Test 6.CSV  Test 6.CSV   \n",
       "4    8028 -0.07  1.32  0.72  Test 6-Healthy_Cutting/Test 6.CSV  Test 6.CSV   \n",
       "\n",
       "             label  \n",
       "0  Healthy_Cutting  \n",
       "1  Healthy_Cutting  \n",
       "2  Healthy_Cutting  \n",
       "3  Healthy_Cutting  \n",
       "4  Healthy_Cutting  "
      ]
     },
     "execution_count": 5,
     "metadata": {},
     "output_type": "execute_result"
    }
   ],
   "source": [
    "df.head()"
   ]
  },
  {
   "cell_type": "code",
   "execution_count": 6,
   "metadata": {},
   "outputs": [
    {
     "data": {
      "text/plain": [
       "Broken_Cutting     1419600\n",
       "Missing_Idle        898800\n",
       "Healthy_Cutting     663600\n",
       "Healthy_Idle        633360\n",
       "Broken_Idle         299040\n",
       "Missing_Cutting     275520\n",
       "Name: label, dtype: int64"
      ]
     },
     "execution_count": 6,
     "metadata": {},
     "output_type": "execute_result"
    }
   ],
   "source": [
    "df.label.value_counts()"
   ]
  },
  {
   "cell_type": "code",
   "execution_count": 7,
   "metadata": {},
   "outputs": [
    {
     "data": {
      "text/html": [
       "<div>\n",
       "<style scoped>\n",
       "    .dataframe tbody tr th:only-of-type {\n",
       "        vertical-align: middle;\n",
       "    }\n",
       "\n",
       "    .dataframe tbody tr th {\n",
       "        vertical-align: top;\n",
       "    }\n",
       "\n",
       "    .dataframe thead th {\n",
       "        text-align: right;\n",
       "    }\n",
       "</style>\n",
       "<table border=\"1\" class=\"dataframe\">\n",
       "  <thead>\n",
       "    <tr style=\"text-align: right;\">\n",
       "      <th></th>\n",
       "      <th>label</th>\n",
       "      <th>filename</th>\n",
       "      <th>count</th>\n",
       "    </tr>\n",
       "  </thead>\n",
       "  <tbody>\n",
       "    <tr>\n",
       "      <th>0</th>\n",
       "      <td>Broken_Cutting</td>\n",
       "      <td>Test 10 (1).CSV</td>\n",
       "      <td>13440</td>\n",
       "    </tr>\n",
       "    <tr>\n",
       "      <th>1</th>\n",
       "      <td>Broken_Cutting</td>\n",
       "      <td>Test 10 (2).CSV</td>\n",
       "      <td>26040</td>\n",
       "    </tr>\n",
       "    <tr>\n",
       "      <th>2</th>\n",
       "      <td>Broken_Cutting</td>\n",
       "      <td>Test 10 (3).CSV</td>\n",
       "      <td>670320</td>\n",
       "    </tr>\n",
       "    <tr>\n",
       "      <th>3</th>\n",
       "      <td>Broken_Cutting</td>\n",
       "      <td>Test 10 - Merged.CSV</td>\n",
       "      <td>709800</td>\n",
       "    </tr>\n",
       "    <tr>\n",
       "      <th>4</th>\n",
       "      <td>Broken_Idle</td>\n",
       "      <td>Test 09 (1).CSV</td>\n",
       "      <td>2520</td>\n",
       "    </tr>\n",
       "    <tr>\n",
       "      <th>5</th>\n",
       "      <td>Broken_Idle</td>\n",
       "      <td>Test 09 (14).CSV</td>\n",
       "      <td>5040</td>\n",
       "    </tr>\n",
       "    <tr>\n",
       "      <th>6</th>\n",
       "      <td>Broken_Idle</td>\n",
       "      <td>Test 09 (15).CSV</td>\n",
       "      <td>85680</td>\n",
       "    </tr>\n",
       "    <tr>\n",
       "      <th>7</th>\n",
       "      <td>Broken_Idle</td>\n",
       "      <td>Test 09 (2).CSV</td>\n",
       "      <td>10080</td>\n",
       "    </tr>\n",
       "    <tr>\n",
       "      <th>8</th>\n",
       "      <td>Broken_Idle</td>\n",
       "      <td>Test 09 (27).CSV</td>\n",
       "      <td>840</td>\n",
       "    </tr>\n",
       "    <tr>\n",
       "      <th>9</th>\n",
       "      <td>Broken_Idle</td>\n",
       "      <td>Test 09 (59).CSV</td>\n",
       "      <td>1680</td>\n",
       "    </tr>\n",
       "    <tr>\n",
       "      <th>10</th>\n",
       "      <td>Broken_Idle</td>\n",
       "      <td>Test 09 (60).CSV</td>\n",
       "      <td>840</td>\n",
       "    </tr>\n",
       "    <tr>\n",
       "      <th>11</th>\n",
       "      <td>Broken_Idle</td>\n",
       "      <td>Test 09 (61).CSV</td>\n",
       "      <td>1680</td>\n",
       "    </tr>\n",
       "    <tr>\n",
       "      <th>12</th>\n",
       "      <td>Broken_Idle</td>\n",
       "      <td>Test 09 (67).CSV</td>\n",
       "      <td>41160</td>\n",
       "    </tr>\n",
       "    <tr>\n",
       "      <th>13</th>\n",
       "      <td>Broken_Idle</td>\n",
       "      <td>Test 9 - Merged.CSV</td>\n",
       "      <td>149520</td>\n",
       "    </tr>\n",
       "    <tr>\n",
       "      <th>14</th>\n",
       "      <td>Healthy_Cutting</td>\n",
       "      <td>Test 6.CSV</td>\n",
       "      <td>663600</td>\n",
       "    </tr>\n",
       "    <tr>\n",
       "      <th>15</th>\n",
       "      <td>Healthy_Idle</td>\n",
       "      <td>Test 5.CSV</td>\n",
       "      <td>633360</td>\n",
       "    </tr>\n",
       "    <tr>\n",
       "      <th>16</th>\n",
       "      <td>Missing_Cutting</td>\n",
       "      <td>Test 08 (1).CSV</td>\n",
       "      <td>26880</td>\n",
       "    </tr>\n",
       "    <tr>\n",
       "      <th>17</th>\n",
       "      <td>Missing_Cutting</td>\n",
       "      <td>Test 08 (10).CSV</td>\n",
       "      <td>1680</td>\n",
       "    </tr>\n",
       "    <tr>\n",
       "      <th>18</th>\n",
       "      <td>Missing_Cutting</td>\n",
       "      <td>Test 08 (12).CSV</td>\n",
       "      <td>840</td>\n",
       "    </tr>\n",
       "    <tr>\n",
       "      <th>19</th>\n",
       "      <td>Missing_Cutting</td>\n",
       "      <td>Test 08 (13).CSV</td>\n",
       "      <td>10920</td>\n",
       "    </tr>\n",
       "    <tr>\n",
       "      <th>20</th>\n",
       "      <td>Missing_Cutting</td>\n",
       "      <td>Test 08 (14).CSV</td>\n",
       "      <td>7560</td>\n",
       "    </tr>\n",
       "    <tr>\n",
       "      <th>21</th>\n",
       "      <td>Missing_Cutting</td>\n",
       "      <td>Test 08 (15).CSV</td>\n",
       "      <td>3360</td>\n",
       "    </tr>\n",
       "    <tr>\n",
       "      <th>22</th>\n",
       "      <td>Missing_Cutting</td>\n",
       "      <td>Test 08 (2).CSV</td>\n",
       "      <td>5880</td>\n",
       "    </tr>\n",
       "    <tr>\n",
       "      <th>23</th>\n",
       "      <td>Missing_Cutting</td>\n",
       "      <td>Test 08 (3).CSV</td>\n",
       "      <td>2520</td>\n",
       "    </tr>\n",
       "    <tr>\n",
       "      <th>24</th>\n",
       "      <td>Missing_Cutting</td>\n",
       "      <td>Test 08 (4).CSV</td>\n",
       "      <td>1680</td>\n",
       "    </tr>\n",
       "    <tr>\n",
       "      <th>25</th>\n",
       "      <td>Missing_Cutting</td>\n",
       "      <td>Test 08 (5).CSV</td>\n",
       "      <td>18480</td>\n",
       "    </tr>\n",
       "    <tr>\n",
       "      <th>26</th>\n",
       "      <td>Missing_Cutting</td>\n",
       "      <td>Test 08 (7).CSV</td>\n",
       "      <td>2520</td>\n",
       "    </tr>\n",
       "    <tr>\n",
       "      <th>27</th>\n",
       "      <td>Missing_Cutting</td>\n",
       "      <td>Test 08 (8).CSV</td>\n",
       "      <td>21000</td>\n",
       "    </tr>\n",
       "    <tr>\n",
       "      <th>28</th>\n",
       "      <td>Missing_Cutting</td>\n",
       "      <td>Test 08 (9).CSV</td>\n",
       "      <td>34440</td>\n",
       "    </tr>\n",
       "    <tr>\n",
       "      <th>29</th>\n",
       "      <td>Missing_Cutting</td>\n",
       "      <td>Test 8 - Merged.CSV</td>\n",
       "      <td>137760</td>\n",
       "    </tr>\n",
       "    <tr>\n",
       "      <th>30</th>\n",
       "      <td>Missing_Idle</td>\n",
       "      <td>Test 7.CSV</td>\n",
       "      <td>898800</td>\n",
       "    </tr>\n",
       "  </tbody>\n",
       "</table>\n",
       "</div>"
      ],
      "text/plain": [
       "              label              filename   count\n",
       "0    Broken_Cutting       Test 10 (1).CSV   13440\n",
       "1    Broken_Cutting       Test 10 (2).CSV   26040\n",
       "2    Broken_Cutting       Test 10 (3).CSV  670320\n",
       "3    Broken_Cutting  Test 10 - Merged.CSV  709800\n",
       "4       Broken_Idle       Test 09 (1).CSV    2520\n",
       "5       Broken_Idle      Test 09 (14).CSV    5040\n",
       "6       Broken_Idle      Test 09 (15).CSV   85680\n",
       "7       Broken_Idle       Test 09 (2).CSV   10080\n",
       "8       Broken_Idle      Test 09 (27).CSV     840\n",
       "9       Broken_Idle      Test 09 (59).CSV    1680\n",
       "10      Broken_Idle      Test 09 (60).CSV     840\n",
       "11      Broken_Idle      Test 09 (61).CSV    1680\n",
       "12      Broken_Idle      Test 09 (67).CSV   41160\n",
       "13      Broken_Idle   Test 9 - Merged.CSV  149520\n",
       "14  Healthy_Cutting            Test 6.CSV  663600\n",
       "15     Healthy_Idle            Test 5.CSV  633360\n",
       "16  Missing_Cutting       Test 08 (1).CSV   26880\n",
       "17  Missing_Cutting      Test 08 (10).CSV    1680\n",
       "18  Missing_Cutting      Test 08 (12).CSV     840\n",
       "19  Missing_Cutting      Test 08 (13).CSV   10920\n",
       "20  Missing_Cutting      Test 08 (14).CSV    7560\n",
       "21  Missing_Cutting      Test 08 (15).CSV    3360\n",
       "22  Missing_Cutting       Test 08 (2).CSV    5880\n",
       "23  Missing_Cutting       Test 08 (3).CSV    2520\n",
       "24  Missing_Cutting       Test 08 (4).CSV    1680\n",
       "25  Missing_Cutting       Test 08 (5).CSV   18480\n",
       "26  Missing_Cutting       Test 08 (7).CSV    2520\n",
       "27  Missing_Cutting       Test 08 (8).CSV   21000\n",
       "28  Missing_Cutting       Test 08 (9).CSV   34440\n",
       "29  Missing_Cutting   Test 8 - Merged.CSV  137760\n",
       "30     Missing_Idle            Test 7.CSV  898800"
      ]
     },
     "execution_count": 7,
     "metadata": {},
     "output_type": "execute_result"
    }
   ],
   "source": [
    "df.groupby([\"label\", \"filename\"]).size().reset_index(name=\"count\")"
   ]
  },
  {
   "cell_type": "code",
   "execution_count": 8,
   "metadata": {},
   "outputs": [],
   "source": [
    "# Save data to processed folder\n",
    "df.to_parquet(\"../../data/processed/processed.parquet\")\n",
    "del df"
   ]
  },
  {
   "cell_type": "markdown",
   "metadata": {},
   "source": [
    "### Load data from processed"
   ]
  },
  {
   "cell_type": "code",
   "execution_count": 9,
   "metadata": {},
   "outputs": [
    {
     "data": {
      "text/html": [
       "<div>\n",
       "<style scoped>\n",
       "    .dataframe tbody tr th:only-of-type {\n",
       "        vertical-align: middle;\n",
       "    }\n",
       "\n",
       "    .dataframe tbody tr th {\n",
       "        vertical-align: top;\n",
       "    }\n",
       "\n",
       "    .dataframe thead th {\n",
       "        text-align: right;\n",
       "    }\n",
       "</style>\n",
       "<table border=\"1\" class=\"dataframe\">\n",
       "  <thead>\n",
       "    <tr style=\"text-align: right;\">\n",
       "      <th></th>\n",
       "      <th>millis</th>\n",
       "      <th>x</th>\n",
       "      <th>y</th>\n",
       "      <th>z</th>\n",
       "      <th>filepath</th>\n",
       "      <th>filename</th>\n",
       "      <th>label</th>\n",
       "    </tr>\n",
       "  </thead>\n",
       "  <tbody>\n",
       "    <tr>\n",
       "      <th>0</th>\n",
       "      <td>8028</td>\n",
       "      <td>-0.26</td>\n",
       "      <td>1.76</td>\n",
       "      <td>0.77</td>\n",
       "      <td>Test 6-Healthy_Cutting/Test 6.CSV</td>\n",
       "      <td>Test 6.CSV</td>\n",
       "      <td>Healthy_Cutting</td>\n",
       "    </tr>\n",
       "    <tr>\n",
       "      <th>1</th>\n",
       "      <td>8028</td>\n",
       "      <td>-0.31</td>\n",
       "      <td>1.32</td>\n",
       "      <td>0.82</td>\n",
       "      <td>Test 6-Healthy_Cutting/Test 6.CSV</td>\n",
       "      <td>Test 6.CSV</td>\n",
       "      <td>Healthy_Cutting</td>\n",
       "    </tr>\n",
       "    <tr>\n",
       "      <th>2</th>\n",
       "      <td>8028</td>\n",
       "      <td>0.03</td>\n",
       "      <td>1.18</td>\n",
       "      <td>1.01</td>\n",
       "      <td>Test 6-Healthy_Cutting/Test 6.CSV</td>\n",
       "      <td>Test 6.CSV</td>\n",
       "      <td>Healthy_Cutting</td>\n",
       "    </tr>\n",
       "    <tr>\n",
       "      <th>3</th>\n",
       "      <td>8028</td>\n",
       "      <td>-0.26</td>\n",
       "      <td>1.52</td>\n",
       "      <td>0.77</td>\n",
       "      <td>Test 6-Healthy_Cutting/Test 6.CSV</td>\n",
       "      <td>Test 6.CSV</td>\n",
       "      <td>Healthy_Cutting</td>\n",
       "    </tr>\n",
       "    <tr>\n",
       "      <th>4</th>\n",
       "      <td>8028</td>\n",
       "      <td>-0.07</td>\n",
       "      <td>1.32</td>\n",
       "      <td>0.72</td>\n",
       "      <td>Test 6-Healthy_Cutting/Test 6.CSV</td>\n",
       "      <td>Test 6.CSV</td>\n",
       "      <td>Healthy_Cutting</td>\n",
       "    </tr>\n",
       "  </tbody>\n",
       "</table>\n",
       "</div>"
      ],
      "text/plain": [
       "   millis     x     y     z                           filepath    filename  \\\n",
       "0    8028 -0.26  1.76  0.77  Test 6-Healthy_Cutting/Test 6.CSV  Test 6.CSV   \n",
       "1    8028 -0.31  1.32  0.82  Test 6-Healthy_Cutting/Test 6.CSV  Test 6.CSV   \n",
       "2    8028  0.03  1.18  1.01  Test 6-Healthy_Cutting/Test 6.CSV  Test 6.CSV   \n",
       "3    8028 -0.26  1.52  0.77  Test 6-Healthy_Cutting/Test 6.CSV  Test 6.CSV   \n",
       "4    8028 -0.07  1.32  0.72  Test 6-Healthy_Cutting/Test 6.CSV  Test 6.CSV   \n",
       "\n",
       "             label  \n",
       "0  Healthy_Cutting  \n",
       "1  Healthy_Cutting  \n",
       "2  Healthy_Cutting  \n",
       "3  Healthy_Cutting  \n",
       "4  Healthy_Cutting  "
      ]
     },
     "execution_count": 9,
     "metadata": {},
     "output_type": "execute_result"
    }
   ],
   "source": [
    "# Load data from processed\n",
    "df = pd.read_parquet(\"../../data/processed/processed.parquet\")\n",
    "df.head()"
   ]
  },
  {
   "cell_type": "markdown",
   "metadata": {},
   "source": [
    "## Split data in train and test"
   ]
  },
  {
   "cell_type": "code",
   "execution_count": 10,
   "metadata": {},
   "outputs": [],
   "source": [
    "def split_grouped_data(df: pd.DataFrame, n_splits: int = 2, time_series_splitter: TimeSeriesSplit = TimeSeriesSplit()) -> list:\n",
    "    # Drop columns that are not needed\n",
    "    df = df.drop(columns=[\"millis\", \"filepath\", \"filename\"])\n",
    "\n",
    "    # Split into train and test\n",
    "    train_splits, test_splits = time_series_splitter.split(df)\n",
    "    return train_splits, test_splits\n",
    "\n",
    "def split_data(df: pd.DataFrame, n_splits: int = 2, groupby_cols=[\"filename\"]) -> list:\n",
    "    # Split into train and test for each group\n",
    "    train_splits, train_labels, test_splits, test_labels = [], [], [], []\n",
    "    tss = TimeSeriesSplit(n_splits=n_splits)\n",
    "\n",
    "    # Split data into groups and then split into test and train\n",
    "    for name, group in tqdm(df.groupby(groupby_cols)):\n",
    "        # Split into train and test\n",
    "        train_split, test_split = split_grouped_data(df=group, n_splits=n_splits, time_series_splitter=tss)\n",
    "        \n",
    "        # Get train and test data\n",
    "        train_data = group.iloc[train_split[0], :]\n",
    "        test_data = group.iloc[test_split[0], :]\n",
    "        \n",
    "        # Append to list\n",
    "        train_splits.append(train_data[[\"x\", \"y\", \"z\"]])\n",
    "        test_splits.append(test_data[[\"x\", \"y\", \"z\"]])\n",
    "        train_labels.append(train_data[\"label\"])\n",
    "        test_labels.append(test_data[\"label\"])\n",
    "    return train_splits, test_splits, train_labels, test_labels\n",
    "    "
   ]
  },
  {
   "cell_type": "code",
   "execution_count": 11,
   "metadata": {},
   "outputs": [
    {
     "name": "stderr",
     "output_type": "stream",
     "text": [
      "100%|██████████| 31/31 [00:00<00:00, 64.04it/s]\n"
     ]
    }
   ],
   "source": [
    "train_splits, test_splits, train_labels, test_labels = split_data(df, n_splits=2, groupby_cols=[\"filename\"])"
   ]
  },
  {
   "cell_type": "code",
   "execution_count": 12,
   "metadata": {},
   "outputs": [
    {
     "data": {
      "text/html": [
       "<div>\n",
       "<style scoped>\n",
       "    .dataframe tbody tr th:only-of-type {\n",
       "        vertical-align: middle;\n",
       "    }\n",
       "\n",
       "    .dataframe tbody tr th {\n",
       "        vertical-align: top;\n",
       "    }\n",
       "\n",
       "    .dataframe thead th {\n",
       "        text-align: right;\n",
       "    }\n",
       "</style>\n",
       "<table border=\"1\" class=\"dataframe\">\n",
       "  <thead>\n",
       "    <tr style=\"text-align: right;\">\n",
       "      <th></th>\n",
       "      <th>x</th>\n",
       "      <th>y</th>\n",
       "      <th>z</th>\n",
       "    </tr>\n",
       "  </thead>\n",
       "  <tbody>\n",
       "    <tr>\n",
       "      <th>3071880</th>\n",
       "      <td>-0.07</td>\n",
       "      <td>1.27</td>\n",
       "      <td>0.67</td>\n",
       "    </tr>\n",
       "    <tr>\n",
       "      <th>3071881</th>\n",
       "      <td>0.13</td>\n",
       "      <td>1.32</td>\n",
       "      <td>0.57</td>\n",
       "    </tr>\n",
       "    <tr>\n",
       "      <th>3071882</th>\n",
       "      <td>0.03</td>\n",
       "      <td>1.32</td>\n",
       "      <td>0.47</td>\n",
       "    </tr>\n",
       "    <tr>\n",
       "      <th>3071883</th>\n",
       "      <td>0.08</td>\n",
       "      <td>1.32</td>\n",
       "      <td>0.47</td>\n",
       "    </tr>\n",
       "    <tr>\n",
       "      <th>3071884</th>\n",
       "      <td>-0.02</td>\n",
       "      <td>1.32</td>\n",
       "      <td>0.67</td>\n",
       "    </tr>\n",
       "    <tr>\n",
       "      <th>...</th>\n",
       "      <td>...</td>\n",
       "      <td>...</td>\n",
       "      <td>...</td>\n",
       "    </tr>\n",
       "    <tr>\n",
       "      <th>3080835</th>\n",
       "      <td>-2.52</td>\n",
       "      <td>7.11</td>\n",
       "      <td>0.37</td>\n",
       "    </tr>\n",
       "    <tr>\n",
       "      <th>3080836</th>\n",
       "      <td>-4.14</td>\n",
       "      <td>-4.65</td>\n",
       "      <td>4.29</td>\n",
       "    </tr>\n",
       "    <tr>\n",
       "      <th>3080837</th>\n",
       "      <td>1.65</td>\n",
       "      <td>-8.23</td>\n",
       "      <td>2.78</td>\n",
       "    </tr>\n",
       "    <tr>\n",
       "      <th>3080838</th>\n",
       "      <td>0.96</td>\n",
       "      <td>-1.03</td>\n",
       "      <td>4.00</td>\n",
       "    </tr>\n",
       "    <tr>\n",
       "      <th>3080839</th>\n",
       "      <td>-2.71</td>\n",
       "      <td>4.31</td>\n",
       "      <td>2.48</td>\n",
       "    </tr>\n",
       "  </tbody>\n",
       "</table>\n",
       "<p>8960 rows × 3 columns</p>\n",
       "</div>"
      ],
      "text/plain": [
       "            x     y     z\n",
       "3071880 -0.07  1.27  0.67\n",
       "3071881  0.13  1.32  0.57\n",
       "3071882  0.03  1.32  0.47\n",
       "3071883  0.08  1.32  0.47\n",
       "3071884 -0.02  1.32  0.67\n",
       "...       ...   ...   ...\n",
       "3080835 -2.52  7.11  0.37\n",
       "3080836 -4.14 -4.65  4.29\n",
       "3080837  1.65 -8.23  2.78\n",
       "3080838  0.96 -1.03  4.00\n",
       "3080839 -2.71  4.31  2.48\n",
       "\n",
       "[8960 rows x 3 columns]"
      ]
     },
     "execution_count": 12,
     "metadata": {},
     "output_type": "execute_result"
    }
   ],
   "source": [
    "train_splits[0]"
   ]
  },
  {
   "cell_type": "code",
   "execution_count": 13,
   "metadata": {},
   "outputs": [
    {
     "data": {
      "text/plain": [
       "'Missing_Cutting'"
      ]
     },
     "execution_count": 13,
     "metadata": {},
     "output_type": "execute_result"
    }
   ],
   "source": [
    "train_labels[0].iloc[0]"
   ]
  },
  {
   "cell_type": "markdown",
   "metadata": {},
   "source": [
    "### Create datasets"
   ]
  },
  {
   "cell_type": "code",
   "execution_count": 27,
   "metadata": {},
   "outputs": [],
   "source": [
    "import torch\n",
    "from torch.autograd import Variable\n",
    "import torch.nn as nn\n",
    "import torch.nn.functional as F\n",
    "import torch.optim as optim\n",
    "import warnings\n",
    "\n",
    "with warnings.catch_warnings():\n",
    "    warnings.simplefilter(\"ignore\")\n",
    "\n",
    "def create_datasets_from_splits(splits, labels):\n",
    "    iterable_datasets = []\n",
    "    for split in splits:\n",
    "        # Create pytorch dataset from split\n",
    "        dataset = torch.tensor(split.values, dtype=torch.float32)\n",
    "        iterable_datasets.append(dataset)\n",
    "    \n",
    "    # create dataloader from iterable_datasets\n",
    "    return torch.utils.data.DataLoader(iterable_datasets, batch_size=1, shuffle=False)\n"
   ]
  },
  {
   "cell_type": "code",
   "execution_count": 15,
   "metadata": {},
   "outputs": [],
   "source": [
    "train_dataloader = create_datasets_from_splits(train_splits, train_labels)\n",
    "test_dataloader = create_datasets_from_splits(test_splits, test_labels)"
   ]
  },
  {
   "cell_type": "markdown",
   "metadata": {},
   "source": [
    "Enumerate labels"
   ]
  },
  {
   "cell_type": "code",
   "execution_count": 16,
   "metadata": {},
   "outputs": [],
   "source": [
    "id_to_label = dict(enumerate(set([x.iloc[0] for x in train_labels])))\n",
    "label_to_id = {v: k for k, v in id_to_label.items()}"
   ]
  },
  {
   "cell_type": "code",
   "execution_count": 17,
   "metadata": {},
   "outputs": [
    {
     "name": "stdout",
     "output_type": "stream",
     "text": [
      "torch.Size([1, 8960, 3])\n"
     ]
    },
    {
     "data": {
      "text/plain": [
       "tensor([[[-0.0700,  1.2700,  0.6700],\n",
       "         [ 0.1300,  1.3200,  0.5700],\n",
       "         [ 0.0300,  1.3200,  0.4700],\n",
       "         ...,\n",
       "         [ 1.6500, -8.2300,  2.7800],\n",
       "         [ 0.9600, -1.0300,  4.0000],\n",
       "         [-2.7100,  4.3100,  2.4800]]])"
      ]
     },
     "execution_count": 17,
     "metadata": {},
     "output_type": "execute_result"
    }
   ],
   "source": [
    "for i, d in enumerate(train_dataloader):\n",
    "    print(d.shape)\n",
    "    break\n",
    "d"
   ]
  },
  {
   "cell_type": "markdown",
   "metadata": {},
   "source": [
    "### Simple LSTM classification"
   ]
  },
  {
   "cell_type": "markdown",
   "metadata": {},
   "source": [
    "Simple LSTM model"
   ]
  },
  {
   "cell_type": "code",
   "execution_count": 29,
   "metadata": {},
   "outputs": [],
   "source": [
    "class LSTMClassification(nn.Module):\n",
    "\n",
    "    def __init__(self, input_dim, hidden_dim, target_size):\n",
    "        super(LSTMClassification, self).__init__()\n",
    "        self.lstm = nn.LSTM(input_dim, hidden_dim, batch_first=True)\n",
    "        self.fc = nn.Linear(hidden_dim, target_size)\n",
    "\n",
    "    def forward(self, input_):\n",
    "        lstm_out, (h, c) = self.lstm(input_)\n",
    "        logits = self.fc(lstm_out[-1])\n",
    "        scores = F.softmax(logits)\n",
    "        return scores"
   ]
  },
  {
   "cell_type": "markdown",
   "metadata": {},
   "source": [
    "## Train\n"
   ]
  },
  {
   "cell_type": "code",
   "execution_count": 23,
   "metadata": {},
   "outputs": [
    {
     "data": {
      "text/plain": [
       "'NVIDIA GeForce RTX 3090 Ti'"
      ]
     },
     "execution_count": 23,
     "metadata": {},
     "output_type": "execute_result"
    }
   ],
   "source": [
    "torch.cuda.get_device_name(0)"
   ]
  },
  {
   "cell_type": "code",
   "execution_count": 19,
   "metadata": {},
   "outputs": [
    {
     "name": "stdout",
     "output_type": "stream",
     "text": [
      "cuda:0\n"
     ]
    }
   ],
   "source": [
    "device = torch.device('cuda:0' if torch.cuda.is_available() else 'cpu')\n",
    "print(device)"
   ]
  },
  {
   "cell_type": "code",
   "execution_count": 33,
   "metadata": {},
   "outputs": [
    {
     "name": "stdout",
     "output_type": "stream",
     "text": [
      "Start model training\n",
      "Epoch:   1. Loss: 1.7880. Acc.: 0.00%\n",
      "Epoch:   2. Loss: 1.7841. Acc.: 0.00%\n",
      "Epoch:   4. Loss: 1.7773. Acc.: 0.00%\n",
      "Epoch:   8. Loss: 1.7589. Acc.: 0.00%\n",
      "Epoch:  16. Loss: 1.6240. Acc.: 0.00%\n",
      "Epoch 29 best model saved with accuracy: 12.90%\n",
      "Epoch 30 best model saved with accuracy: 41.94%\n",
      "Epoch 31 best model saved with accuracy: 54.84%\n",
      "Epoch:  32. Loss: 1.5071. Acc.: 61.29%\n",
      "Epoch 32 best model saved with accuracy: 61.29%\n",
      "Epoch:  64. Loss: 1.2797. Acc.: 54.84%\n",
      "Early stopping on epoch 82\n",
      "Done!\n"
     ]
    }
   ],
   "source": [
    "import warnings\n",
    "warnings.filterwarnings(\"ignore\")\n",
    "\n",
    "lr = 0.0001\n",
    "n_epochs = 3000\n",
    "iterations_per_epoch = len(train_dataloader)\n",
    "num_classes = len(id_to_label)\n",
    "best_acc = 0\n",
    "patience, trials = 50, 0\n",
    "base = 1\n",
    "step = 2\n",
    "loss_history = []\n",
    "acc_history = []\n",
    "\n",
    "model = LSTMClassification(3, 64, num_classes).to(device)\n",
    "criterion = nn.CrossEntropyLoss(reduction='sum')\n",
    "opt = optim.Adam(model.parameters(), lr=lr)\n",
    "\n",
    "print('Start model training')\n",
    "\n",
    "for epoch in range(1, n_epochs + 1):\n",
    "    \n",
    "    model.train()\n",
    "    epoch_loss = 0\n",
    "    for i, batch in enumerate(train_dataloader):\n",
    "        input = [t.to(device) for t in batch][0]\n",
    "        label = torch.tensor(label_to_id[train_labels[i].iloc[0]]).to(device)\n",
    "        opt.zero_grad()\n",
    "        output = model(input)\n",
    "        loss = criterion(output, label)\n",
    "        epoch_loss += loss.item()\n",
    "        loss.backward()\n",
    "        opt.step()\n",
    "        \n",
    "    epoch_loss /= iterations_per_epoch\n",
    "    loss_history.append(epoch_loss)\n",
    "    \n",
    "    model.eval()\n",
    "    correct, total = 0, 0\n",
    "    for batch in test_dataloader:\n",
    "        input = [t.to(device) for t in batch][0]\n",
    "        label = torch.tensor(label_to_id[train_labels[i].iloc[0]]).to(device)\n",
    "        output = model(input)\n",
    "        preds = F.log_softmax(output).argmax(dim=0)\n",
    "        total += 1\n",
    "        correct += (preds == label).sum().item()\n",
    "    \n",
    "    acc = correct / total\n",
    "    acc_history.append(acc)\n",
    "\n",
    "    if epoch % base == 0:\n",
    "        print(f'Epoch: {epoch:3d}. Loss: {epoch_loss:.4f}. Acc.: {acc:2.2%}')\n",
    "        base *= step\n",
    "\n",
    "    if acc > best_acc:\n",
    "        trials = 0\n",
    "        best_acc = acc\n",
    "        torch.save(model.state_dict(), 'best.pth')\n",
    "        print(f'Epoch {epoch} best model saved with accuracy: {best_acc:2.2%}')\n",
    "    else:\n",
    "        trials += 1\n",
    "        if trials >= patience:\n",
    "            print(f'Early stopping on epoch {epoch}')\n",
    "            break\n",
    "            \n",
    "print('Done!')"
   ]
  },
  {
   "cell_type": "markdown",
   "metadata": {},
   "source": [
    "## Plots"
   ]
  },
  {
   "cell_type": "code",
   "execution_count": 34,
   "metadata": {},
   "outputs": [],
   "source": [
    "def smooth(y, box_pts):\n",
    "    box = np.ones(box_pts)/box_pts\n",
    "    y_smooth = np.convolve(y, box, mode='same')\n",
    "    return y_smooth"
   ]
  },
  {
   "cell_type": "code",
   "execution_count": 36,
   "metadata": {},
   "outputs": [
    {
     "data": {
      "image/png": "[encoded data removed]",
      "text/plain": [
       "<Figure size 1200x400 with 2 Axes>"
      ]
     },
     "metadata": {},
     "output_type": "display_data"
    }
   ],
   "source": [
    "import matplotlib.pyplot as plt\n",
    "f, ax = plt.subplots(1, 2, figsize=(12, 4))\n",
    "\n",
    "ax[0].plot(loss_history, label='loss')\n",
    "ax[0].set_title('Validation Loss History')\n",
    "ax[0].set_xlabel('Epoch no.')\n",
    "ax[0].set_ylabel('Loss')\n",
    "\n",
    "ax[1].plot(smooth(acc_history, 5)[:-2], label='acc')\n",
    "ax[1].set_title('Validation Accuracy History')\n",
    "ax[1].set_xlabel('Epoch no.')\n",
    "ax[1].set_ylabel('Accuracy');"
   ]
  },
  {
   "cell_type": "markdown",
   "metadata": {},
   "source": [
    "### Confusion matrix"
   ]
  },
  {
   "cell_type": "code",
   "execution_count": 46,
   "metadata": {},
   "outputs": [],
   "source": [
    "test_results = []\n",
    "model.load_state_dict(torch.load('best.pth'))\n",
    "model.eval()\n",
    "for input_ in test_dataloader:\n",
    "    input_ = input_.to(device)\n",
    "    out = model(*input_)\n",
    "    output = F.log_softmax(out).argmax(dim=0)\n",
    "    test_results.append(int(output.detach().cpu().numpy()))"
   ]
  },
  {
   "cell_type": "code",
   "execution_count": 51,
   "metadata": {},
   "outputs": [
    {
     "data": {
      "text/plain": [
       "dict_keys(['Missing_Cutting', 'Missing_Idle', 'Broken_Cutting', 'Healthy_Cutting', 'Healthy_Idle', 'Broken_Idle'])"
      ]
     },
     "execution_count": 51,
     "metadata": {},
     "output_type": "execute_result"
    }
   ],
   "source": [
    "label_to_id.keys()"
   ]
  },
  {
   "cell_type": "code",
   "execution_count": 56,
   "metadata": {},
   "outputs": [
    {
     "data": {
      "text/plain": [
       "['Missing_Cutting',\n",
       " 'Missing_Idle',\n",
       " 'Broken_Cutting',\n",
       " 'Healthy_Cutting',\n",
       " 'Healthy_Idle',\n",
       " 'Broken_Idle']"
      ]
     },
     "execution_count": 56,
     "metadata": {},
     "output_type": "execute_result"
    }
   ],
   "source": [
    "list(label_to_id.keys())"
   ]
  },
  {
   "cell_type": "code",
   "execution_count": 58,
   "metadata": {},
   "outputs": [
    {
     "data": {
      "image/png": "[encoded data removed]",
      "text/plain": [
       "<Figure size 640x480 with 2 Axes>"
      ]
     },
     "metadata": {},
     "output_type": "display_data"
    }
   ],
   "source": [
    "from sklearn import metrics\n",
    "from sklearn.metrics import confusion_matrix\n",
    "\n",
    "y_pred = [id_to_label[x] for x in test_results]\n",
    "y_true = [train_labels[i].iloc[0] for i in range(len(train_labels))]\n",
    "\n",
    "cm = confusion_matrix(y_true, y_pred, labels=list(label_to_id.keys()))\n",
    "cm_display = metrics.ConfusionMatrixDisplay(confusion_matrix = cm, display_labels = list(label_to_id.keys()))\n",
    "\n",
    "cm_display.plot()\n",
    "plt.xticks(rotation = 45)\n",
    "plt.show()"
   ]
  },
  {
   "cell_type": "code",
   "execution_count": null,
   "metadata": {},
   "outputs": [],
   "source": []
  }
 ],
 "metadata": {
  "kernelspec": {
   "display_name": "Python 3.8.13 ('base')",
   "language": "python",
   "name": "python3"
  },
  "language_info": {
   "codemirror_mode": {
    "name": "ipython",
    "version": 3
   },
   "file_extension": ".py",
   "mimetype": "text/x-python",
   "name": "python",
   "nbconvert_exporter": "python",
   "pygments_lexer": "ipython3",
   "version": "3.8.13"
  },
  "orig_nbformat": 4,
  "vscode": {
   "interpreter": {
    "hash": "d4d1e4263499bec80672ea0156c357c1ee493ec2b1c70f0acce89fc37c4a6abe"
   }
  }
 },
 "nbformat": 4,
 "nbformat_minor": 2
}
