{
 "cells": [
  {
   "cell_type": "code",
   "execution_count": 44,
   "metadata": {},
   "outputs": [],
   "source": [
    "import os\n",
    "import numpy as np\n",
    "import pandas as pd\n",
    "from tqdm import tqdm\n",
    "from sklearn.model_selection import TimeSeriesSplit, KFold\n",
    "import matplotlib.pyplot as plt\n",
    "\n",
    "import warnings\n",
    "warnings.filterwarnings(\"ignore\")"
   ]
  },
  {
   "cell_type": "code",
   "execution_count": 45,
   "metadata": {},
   "outputs": [],
   "source": [
    "# Get current working directory\n",
    "cwd = os.getcwd()\n",
    "\n",
    "def load_file(filepath: str) -> pd.DataFrame:\n",
    "    # Check if file exists\n",
    "    if not os.path.exists(filepath):\n",
    "        raise FileNotFoundError(\"File not found\")\n",
    "    \n",
    "    # Read file\n",
    "    try:\n",
    "        df = pd.read_csv(filepath, skiprows=2, header=0, sep=\",\", decimal=\".\")\n",
    "    except:\n",
    "        return None\n",
    "    \n",
    "\n",
    "    # Make new column with entire filepath, and another with just the filename\n",
    "    df[\"filepath\"] = '/'.join(filepath.split(os.sep)[-2:])\n",
    "    df[\"filename\"] = os.path.basename(filepath)\n",
    "    df[\"label\"] = filepath.split(os.sep)[-2].split(\"-\")[-1]\n",
    "\n",
    "    return df\n",
    "\n",
    "def get_all_data(data_folder) -> pd.DataFrame:\n",
    "    # Check if folder exists\n",
    "    if not os.path.exists(data_folder):\n",
    "        raise FileNotFoundError(\"Folder not found\")\n",
    "\n",
    "    # Check if cwd is part of data_folder\n",
    "    if not data_folder.startswith(cwd):\n",
    "        # If not, add cwd to data_folder\n",
    "        data_folder = os.path.join(cwd, data_folder)\n",
    "\n",
    "    # Get all csv files from subfolders of data_folder\n",
    "    dfs = []\n",
    "    for root, dirs, filenames in os.walk(data_folder):\n",
    "        # if \"Merged\" in any filenames only take that csv file\n",
    "        if any(\"Merged\" in f for f in filenames):\n",
    "            filenames = [f for f in filenames if \"Merged\" in f]\n",
    "            for f in filenames:\n",
    "                if f.endswith(\".CSV\"):\n",
    "                    df = load_file(os.path.join(root, f))\n",
    "                    if df is not None:\n",
    "                        dfs.append(df)\n",
    "        else:\n",
    "            for f in filenames:\n",
    "                if f.endswith(\".CSV\"):\n",
    "                    df = load_file(os.path.join(root, f))\n",
    "                    if df is not None:\n",
    "                        dfs.append(df)                \n",
    "    \n",
    "    # Concatenate all dataframes\n",
    "    df = pd.concat(dfs, ignore_index=True)\n",
    "    return df\n",
    "    "
   ]
  },
  {
   "cell_type": "markdown",
   "metadata": {},
   "source": [
    "## Load data"
   ]
  },
  {
   "cell_type": "code",
   "execution_count": 46,
   "metadata": {},
   "outputs": [],
   "source": [
    "# Load data\n",
    "df = get_all_data(\"../../data/raw\")"
   ]
  },
  {
   "cell_type": "markdown",
   "metadata": {},
   "source": [
    "### Simple stats"
   ]
  },
  {
   "cell_type": "code",
   "execution_count": 47,
   "metadata": {},
   "outputs": [
    {
     "name": "stdout",
     "output_type": "stream",
     "text": [
      "<class 'pandas.core.frame.DataFrame'>\n",
      "RangeIndex: 3192840 entries, 0 to 3192839\n",
      "Data columns (total 7 columns):\n",
      " #   Column    Dtype  \n",
      "---  ------    -----  \n",
      " 0   millis    int64  \n",
      " 1   x         float64\n",
      " 2   y         float64\n",
      " 3   z         float64\n",
      " 4   filepath  object \n",
      " 5   filename  object \n",
      " 6   label     object \n",
      "dtypes: float64(3), int64(1), object(3)\n",
      "memory usage: 170.5+ MB\n"
     ]
    }
   ],
   "source": [
    "df.info()"
   ]
  },
  {
   "cell_type": "code",
   "execution_count": 48,
   "metadata": {},
   "outputs": [
    {
     "data": {
      "text/html": [
       "<div>\n",
       "<style scoped>\n",
       "    .dataframe tbody tr th:only-of-type {\n",
       "        vertical-align: middle;\n",
       "    }\n",
       "\n",
       "    .dataframe tbody tr th {\n",
       "        vertical-align: top;\n",
       "    }\n",
       "\n",
       "    .dataframe thead th {\n",
       "        text-align: right;\n",
       "    }\n",
       "</style>\n",
       "<table border=\"1\" class=\"dataframe\">\n",
       "  <thead>\n",
       "    <tr style=\"text-align: right;\">\n",
       "      <th></th>\n",
       "      <th>millis</th>\n",
       "      <th>x</th>\n",
       "      <th>y</th>\n",
       "      <th>z</th>\n",
       "      <th>filepath</th>\n",
       "      <th>filename</th>\n",
       "      <th>label</th>\n",
       "    </tr>\n",
       "  </thead>\n",
       "  <tbody>\n",
       "    <tr>\n",
       "      <th>0</th>\n",
       "      <td>8028</td>\n",
       "      <td>-0.26</td>\n",
       "      <td>1.76</td>\n",
       "      <td>0.77</td>\n",
       "      <td>Test 6-Healthy_Cutting/Test 6.CSV</td>\n",
       "      <td>Test 6.CSV</td>\n",
       "      <td>Healthy_Cutting</td>\n",
       "    </tr>\n",
       "    <tr>\n",
       "      <th>1</th>\n",
       "      <td>8028</td>\n",
       "      <td>-0.31</td>\n",
       "      <td>1.32</td>\n",
       "      <td>0.82</td>\n",
       "      <td>Test 6-Healthy_Cutting/Test 6.CSV</td>\n",
       "      <td>Test 6.CSV</td>\n",
       "      <td>Healthy_Cutting</td>\n",
       "    </tr>\n",
       "    <tr>\n",
       "      <th>2</th>\n",
       "      <td>8028</td>\n",
       "      <td>0.03</td>\n",
       "      <td>1.18</td>\n",
       "      <td>1.01</td>\n",
       "      <td>Test 6-Healthy_Cutting/Test 6.CSV</td>\n",
       "      <td>Test 6.CSV</td>\n",
       "      <td>Healthy_Cutting</td>\n",
       "    </tr>\n",
       "    <tr>\n",
       "      <th>3</th>\n",
       "      <td>8028</td>\n",
       "      <td>-0.26</td>\n",
       "      <td>1.52</td>\n",
       "      <td>0.77</td>\n",
       "      <td>Test 6-Healthy_Cutting/Test 6.CSV</td>\n",
       "      <td>Test 6.CSV</td>\n",
       "      <td>Healthy_Cutting</td>\n",
       "    </tr>\n",
       "    <tr>\n",
       "      <th>4</th>\n",
       "      <td>8028</td>\n",
       "      <td>-0.07</td>\n",
       "      <td>1.32</td>\n",
       "      <td>0.72</td>\n",
       "      <td>Test 6-Healthy_Cutting/Test 6.CSV</td>\n",
       "      <td>Test 6.CSV</td>\n",
       "      <td>Healthy_Cutting</td>\n",
       "    </tr>\n",
       "  </tbody>\n",
       "</table>\n",
       "</div>"
      ],
      "text/plain": [
       "   millis     x     y     z                           filepath    filename  \\\n",
       "0    8028 -0.26  1.76  0.77  Test 6-Healthy_Cutting/Test 6.CSV  Test 6.CSV   \n",
       "1    8028 -0.31  1.32  0.82  Test 6-Healthy_Cutting/Test 6.CSV  Test 6.CSV   \n",
       "2    8028  0.03  1.18  1.01  Test 6-Healthy_Cutting/Test 6.CSV  Test 6.CSV   \n",
       "3    8028 -0.26  1.52  0.77  Test 6-Healthy_Cutting/Test 6.CSV  Test 6.CSV   \n",
       "4    8028 -0.07  1.32  0.72  Test 6-Healthy_Cutting/Test 6.CSV  Test 6.CSV   \n",
       "\n",
       "             label  \n",
       "0  Healthy_Cutting  \n",
       "1  Healthy_Cutting  \n",
       "2  Healthy_Cutting  \n",
       "3  Healthy_Cutting  \n",
       "4  Healthy_Cutting  "
      ]
     },
     "execution_count": 48,
     "metadata": {},
     "output_type": "execute_result"
    }
   ],
   "source": [
    "df.head()"
   ]
  },
  {
   "cell_type": "code",
   "execution_count": 49,
   "metadata": {},
   "outputs": [
    {
     "data": {
      "text/plain": [
       "Missing_Idle       898800\n",
       "Broken_Cutting     709800\n",
       "Healthy_Cutting    663600\n",
       "Healthy_Idle       633360\n",
       "Broken_Idle        149520\n",
       "Missing_Cutting    137760\n",
       "Name: label, dtype: int64"
      ]
     },
     "execution_count": 49,
     "metadata": {},
     "output_type": "execute_result"
    }
   ],
   "source": [
    "df.label.value_counts()"
   ]
  },
  {
   "cell_type": "code",
   "execution_count": 120,
   "metadata": {},
   "outputs": [
    {
     "data": {
      "text/html": [
       "<div>\n",
       "<style scoped>\n",
       "    .dataframe tbody tr th:only-of-type {\n",
       "        vertical-align: middle;\n",
       "    }\n",
       "\n",
       "    .dataframe tbody tr th {\n",
       "        vertical-align: top;\n",
       "    }\n",
       "\n",
       "    .dataframe thead th {\n",
       "        text-align: right;\n",
       "    }\n",
       "</style>\n",
       "<table border=\"1\" class=\"dataframe\">\n",
       "  <thead>\n",
       "    <tr style=\"text-align: right;\">\n",
       "      <th></th>\n",
       "      <th>label</th>\n",
       "      <th>Broken_Cutting</th>\n",
       "      <th>Broken_Idle</th>\n",
       "      <th>Healthy_Cutting</th>\n",
       "      <th>Healthy_Idle</th>\n",
       "      <th>Missing_Cutting</th>\n",
       "      <th>Missing_Idle</th>\n",
       "    </tr>\n",
       "  </thead>\n",
       "  <tbody>\n",
       "    <tr>\n",
       "      <th rowspan=\"8\" valign=\"top\">x</th>\n",
       "      <th>count</th>\n",
       "      <td>708000.000000</td>\n",
       "      <td>144000.000000</td>\n",
       "      <td>660000.000000</td>\n",
       "      <td>630000.000000</td>\n",
       "      <td>132000.000000</td>\n",
       "      <td>894000.000000</td>\n",
       "    </tr>\n",
       "    <tr>\n",
       "      <th>mean</th>\n",
       "      <td>0.033962</td>\n",
       "      <td>-0.119110</td>\n",
       "      <td>0.046935</td>\n",
       "      <td>-0.032314</td>\n",
       "      <td>0.046779</td>\n",
       "      <td>-1.231734</td>\n",
       "    </tr>\n",
       "    <tr>\n",
       "      <th>std</th>\n",
       "      <td>0.578170</td>\n",
       "      <td>0.467258</td>\n",
       "      <td>0.528255</td>\n",
       "      <td>0.315301</td>\n",
       "      <td>2.374915</td>\n",
       "      <td>6.567871</td>\n",
       "    </tr>\n",
       "    <tr>\n",
       "      <th>min</th>\n",
       "      <td>-17.070000</td>\n",
       "      <td>-2.670000</td>\n",
       "      <td>-22.610000</td>\n",
       "      <td>-1.490000</td>\n",
       "      <td>-25.740000</td>\n",
       "      <td>-25.740000</td>\n",
       "    </tr>\n",
       "    <tr>\n",
       "      <th>25%</th>\n",
       "      <td>-0.220000</td>\n",
       "      <td>-0.410000</td>\n",
       "      <td>-0.260000</td>\n",
       "      <td>-0.260000</td>\n",
       "      <td>-0.950000</td>\n",
       "      <td>-2.130000</td>\n",
       "    </tr>\n",
       "    <tr>\n",
       "      <th>50%</th>\n",
       "      <td>0.030000</td>\n",
       "      <td>-0.120000</td>\n",
       "      <td>0.030000</td>\n",
       "      <td>-0.020000</td>\n",
       "      <td>0.080000</td>\n",
       "      <td>-2.130000</td>\n",
       "    </tr>\n",
       "    <tr>\n",
       "      <th>75%</th>\n",
       "      <td>0.320000</td>\n",
       "      <td>0.130000</td>\n",
       "      <td>0.320000</td>\n",
       "      <td>0.180000</td>\n",
       "      <td>1.110000</td>\n",
       "      <td>-0.710000</td>\n",
       "    </tr>\n",
       "    <tr>\n",
       "      <th>max</th>\n",
       "      <td>21.790000</td>\n",
       "      <td>2.230000</td>\n",
       "      <td>13.750000</td>\n",
       "      <td>1.500000</td>\n",
       "      <td>24.380000</td>\n",
       "      <td>880.850000</td>\n",
       "    </tr>\n",
       "    <tr>\n",
       "      <th rowspan=\"8\" valign=\"top\">y</th>\n",
       "      <th>count</th>\n",
       "      <td>708000.000000</td>\n",
       "      <td>144000.000000</td>\n",
       "      <td>660000.000000</td>\n",
       "      <td>630000.000000</td>\n",
       "      <td>132000.000000</td>\n",
       "      <td>894000.000000</td>\n",
       "    </tr>\n",
       "    <tr>\n",
       "      <th>mean</th>\n",
       "      <td>1.369306</td>\n",
       "      <td>1.294733</td>\n",
       "      <td>1.355109</td>\n",
       "      <td>1.358925</td>\n",
       "      <td>1.373182</td>\n",
       "      <td>3.811374</td>\n",
       "    </tr>\n",
       "    <tr>\n",
       "      <th>std</th>\n",
       "      <td>0.703917</td>\n",
       "      <td>0.846279</td>\n",
       "      <td>0.684541</td>\n",
       "      <td>0.572883</td>\n",
       "      <td>3.451265</td>\n",
       "      <td>7.176031</td>\n",
       "    </tr>\n",
       "    <tr>\n",
       "      <th>min</th>\n",
       "      <td>-13.280000</td>\n",
       "      <td>-3.720000</td>\n",
       "      <td>-12.980000</td>\n",
       "      <td>-0.390000</td>\n",
       "      <td>-24.700000</td>\n",
       "      <td>-24.700000</td>\n",
       "    </tr>\n",
       "    <tr>\n",
       "      <th>25%</th>\n",
       "      <td>0.980000</td>\n",
       "      <td>0.690000</td>\n",
       "      <td>0.930000</td>\n",
       "      <td>0.880000</td>\n",
       "      <td>-0.440000</td>\n",
       "      <td>3.630000</td>\n",
       "    </tr>\n",
       "    <tr>\n",
       "      <th>50%</th>\n",
       "      <td>1.320000</td>\n",
       "      <td>1.320000</td>\n",
       "      <td>1.320000</td>\n",
       "      <td>1.370000</td>\n",
       "      <td>1.370000</td>\n",
       "      <td>5.390000</td>\n",
       "    </tr>\n",
       "    <tr>\n",
       "      <th>75%</th>\n",
       "      <td>1.720000</td>\n",
       "      <td>1.910000</td>\n",
       "      <td>1.760000</td>\n",
       "      <td>1.810000</td>\n",
       "      <td>3.330000</td>\n",
       "      <td>5.390000</td>\n",
       "    </tr>\n",
       "    <tr>\n",
       "      <th>max</th>\n",
       "      <td>19.010000</td>\n",
       "      <td>6.810000</td>\n",
       "      <td>15.680000</td>\n",
       "      <td>3.040000</td>\n",
       "      <td>25.430000</td>\n",
       "      <td>881.900000</td>\n",
       "    </tr>\n",
       "    <tr>\n",
       "      <th rowspan=\"8\" valign=\"top\">z</th>\n",
       "      <th>count</th>\n",
       "      <td>708000.000000</td>\n",
       "      <td>144000.000000</td>\n",
       "      <td>660000.000000</td>\n",
       "      <td>630000.000000</td>\n",
       "      <td>132000.000000</td>\n",
       "      <td>894000.000000</td>\n",
       "    </tr>\n",
       "    <tr>\n",
       "      <th>mean</th>\n",
       "      <td>0.511643</td>\n",
       "      <td>0.529080</td>\n",
       "      <td>0.686642</td>\n",
       "      <td>0.676031</td>\n",
       "      <td>0.570923</td>\n",
       "      <td>-0.895586</td>\n",
       "    </tr>\n",
       "    <tr>\n",
       "      <th>std</th>\n",
       "      <td>0.669750</td>\n",
       "      <td>0.474707</td>\n",
       "      <td>0.602121</td>\n",
       "      <td>0.254015</td>\n",
       "      <td>3.250623</td>\n",
       "      <td>2.418733</td>\n",
       "    </tr>\n",
       "    <tr>\n",
       "      <th>min</th>\n",
       "      <td>-16.530000</td>\n",
       "      <td>-1.930000</td>\n",
       "      <td>-9.820000</td>\n",
       "      <td>-0.750000</td>\n",
       "      <td>-24.370000</td>\n",
       "      <td>-24.370000</td>\n",
       "    </tr>\n",
       "    <tr>\n",
       "      <th>25%</th>\n",
       "      <td>0.180000</td>\n",
       "      <td>0.280000</td>\n",
       "      <td>0.330000</td>\n",
       "      <td>0.520000</td>\n",
       "      <td>-1.000000</td>\n",
       "      <td>-1.980000</td>\n",
       "    </tr>\n",
       "    <tr>\n",
       "      <th>50%</th>\n",
       "      <td>0.520000</td>\n",
       "      <td>0.570000</td>\n",
       "      <td>0.720000</td>\n",
       "      <td>0.670000</td>\n",
       "      <td>0.520000</td>\n",
       "      <td>-1.980000</td>\n",
       "    </tr>\n",
       "    <tr>\n",
       "      <th>75%</th>\n",
       "      <td>0.820000</td>\n",
       "      <td>0.820000</td>\n",
       "      <td>1.010000</td>\n",
       "      <td>0.820000</td>\n",
       "      <td>2.040000</td>\n",
       "      <td>-0.160000</td>\n",
       "    </tr>\n",
       "    <tr>\n",
       "      <th>max</th>\n",
       "      <td>14.490000</td>\n",
       "      <td>2.780000</td>\n",
       "      <td>21.540000</td>\n",
       "      <td>2.090000</td>\n",
       "      <td>25.760000</td>\n",
       "      <td>21.790000</td>\n",
       "    </tr>\n",
       "  </tbody>\n",
       "</table>\n",
       "</div>"
      ],
      "text/plain": [
       "label    Broken_Cutting    Broken_Idle  Healthy_Cutting   Healthy_Idle  \\\n",
       "x count   708000.000000  144000.000000    660000.000000  630000.000000   \n",
       "  mean         0.033962      -0.119110         0.046935      -0.032314   \n",
       "  std          0.578170       0.467258         0.528255       0.315301   \n",
       "  min        -17.070000      -2.670000       -22.610000      -1.490000   \n",
       "  25%         -0.220000      -0.410000        -0.260000      -0.260000   \n",
       "  50%          0.030000      -0.120000         0.030000      -0.020000   \n",
       "  75%          0.320000       0.130000         0.320000       0.180000   \n",
       "  max         21.790000       2.230000        13.750000       1.500000   \n",
       "y count   708000.000000  144000.000000    660000.000000  630000.000000   \n",
       "  mean         1.369306       1.294733         1.355109       1.358925   \n",
       "  std          0.703917       0.846279         0.684541       0.572883   \n",
       "  min        -13.280000      -3.720000       -12.980000      -0.390000   \n",
       "  25%          0.980000       0.690000         0.930000       0.880000   \n",
       "  50%          1.320000       1.320000         1.320000       1.370000   \n",
       "  75%          1.720000       1.910000         1.760000       1.810000   \n",
       "  max         19.010000       6.810000        15.680000       3.040000   \n",
       "z count   708000.000000  144000.000000    660000.000000  630000.000000   \n",
       "  mean         0.511643       0.529080         0.686642       0.676031   \n",
       "  std          0.669750       0.474707         0.602121       0.254015   \n",
       "  min        -16.530000      -1.930000        -9.820000      -0.750000   \n",
       "  25%          0.180000       0.280000         0.330000       0.520000   \n",
       "  50%          0.520000       0.570000         0.720000       0.670000   \n",
       "  75%          0.820000       0.820000         1.010000       0.820000   \n",
       "  max         14.490000       2.780000        21.540000       2.090000   \n",
       "\n",
       "label    Missing_Cutting   Missing_Idle  \n",
       "x count    132000.000000  894000.000000  \n",
       "  mean          0.046779      -1.231734  \n",
       "  std           2.374915       6.567871  \n",
       "  min         -25.740000     -25.740000  \n",
       "  25%          -0.950000      -2.130000  \n",
       "  50%           0.080000      -2.130000  \n",
       "  75%           1.110000      -0.710000  \n",
       "  max          24.380000     880.850000  \n",
       "y count    132000.000000  894000.000000  \n",
       "  mean          1.373182       3.811374  \n",
       "  std           3.451265       7.176031  \n",
       "  min         -24.700000     -24.700000  \n",
       "  25%          -0.440000       3.630000  \n",
       "  50%           1.370000       5.390000  \n",
       "  75%           3.330000       5.390000  \n",
       "  max          25.430000     881.900000  \n",
       "z count    132000.000000  894000.000000  \n",
       "  mean          0.570923      -0.895586  \n",
       "  std           3.250623       2.418733  \n",
       "  min         -24.370000     -24.370000  \n",
       "  25%          -1.000000      -1.980000  \n",
       "  50%           0.520000      -1.980000  \n",
       "  75%           2.040000      -0.160000  \n",
       "  max          25.760000      21.790000  "
      ]
     },
     "execution_count": 120,
     "metadata": {},
     "output_type": "execute_result"
    }
   ],
   "source": [
    "df.groupby(\"label\")[df.columns.difference([\"millis\"])].describe().T"
   ]
  },
  {
   "cell_type": "markdown",
   "metadata": {},
   "source": [
    "### Split each group into small parts"
   ]
  },
  {
   "cell_type": "code",
   "execution_count": 50,
   "metadata": {},
   "outputs": [],
   "source": [
    "def split_dataframe(df, name, chunk_size = 6000): # 4000 is 5 seconds of data\n",
    "    chunks = list()\n",
    "    num_chunks = len(df) // chunk_size + 1\n",
    "    for i in range(num_chunks):\n",
    "        chunk = df[i*chunk_size:(i+1)*chunk_size]\n",
    "        chunk[\"group\"] = f\"{name}_{i}\"\n",
    "        chunks.append(chunk)\n",
    "    return chunks"
   ]
  },
  {
   "cell_type": "code",
   "execution_count": 51,
   "metadata": {},
   "outputs": [],
   "source": [
    "df_parts = []\n",
    "for name, group in df.groupby(\"label\"):\n",
    "    groups = split_dataframe(group, name)\n",
    "\n",
    "    # throw away last group if it is too small\n",
    "    if len(groups[-1]) < 6000:\n",
    "        groups.pop()\n",
    "    \n",
    "    df_parts.append(pd.concat(groups))\n",
    "df = pd.concat(df_parts)"
   ]
  },
  {
   "cell_type": "code",
   "execution_count": 52,
   "metadata": {},
   "outputs": [
    {
     "data": {
      "text/html": [
       "<div>\n",
       "<style scoped>\n",
       "    .dataframe tbody tr th:only-of-type {\n",
       "        vertical-align: middle;\n",
       "    }\n",
       "\n",
       "    .dataframe tbody tr th {\n",
       "        vertical-align: top;\n",
       "    }\n",
       "\n",
       "    .dataframe thead th {\n",
       "        text-align: right;\n",
       "    }\n",
       "</style>\n",
       "<table border=\"1\" class=\"dataframe\">\n",
       "  <thead>\n",
       "    <tr style=\"text-align: right;\">\n",
       "      <th></th>\n",
       "      <th>millis</th>\n",
       "      <th>x</th>\n",
       "      <th>y</th>\n",
       "      <th>z</th>\n",
       "      <th>filepath</th>\n",
       "      <th>filename</th>\n",
       "      <th>label</th>\n",
       "      <th>group</th>\n",
       "    </tr>\n",
       "  </thead>\n",
       "  <tbody>\n",
       "    <tr>\n",
       "      <th>1562400</th>\n",
       "      <td>7518</td>\n",
       "      <td>0.37</td>\n",
       "      <td>1.08</td>\n",
       "      <td>-0.02</td>\n",
       "      <td>Test 10-Broken_Cutting/Test 10 - Merged.CSV</td>\n",
       "      <td>Test 10 - Merged.CSV</td>\n",
       "      <td>Broken_Cutting</td>\n",
       "      <td>Broken_Cutting_0</td>\n",
       "    </tr>\n",
       "    <tr>\n",
       "      <th>1562401</th>\n",
       "      <td>7518</td>\n",
       "      <td>0.03</td>\n",
       "      <td>1.86</td>\n",
       "      <td>-0.02</td>\n",
       "      <td>Test 10-Broken_Cutting/Test 10 - Merged.CSV</td>\n",
       "      <td>Test 10 - Merged.CSV</td>\n",
       "      <td>Broken_Cutting</td>\n",
       "      <td>Broken_Cutting_0</td>\n",
       "    </tr>\n",
       "    <tr>\n",
       "      <th>1562402</th>\n",
       "      <td>7518</td>\n",
       "      <td>-0.36</td>\n",
       "      <td>1.72</td>\n",
       "      <td>0.47</td>\n",
       "      <td>Test 10-Broken_Cutting/Test 10 - Merged.CSV</td>\n",
       "      <td>Test 10 - Merged.CSV</td>\n",
       "      <td>Broken_Cutting</td>\n",
       "      <td>Broken_Cutting_0</td>\n",
       "    </tr>\n",
       "    <tr>\n",
       "      <th>1562403</th>\n",
       "      <td>7518</td>\n",
       "      <td>-0.90</td>\n",
       "      <td>2.16</td>\n",
       "      <td>0.03</td>\n",
       "      <td>Test 10-Broken_Cutting/Test 10 - Merged.CSV</td>\n",
       "      <td>Test 10 - Merged.CSV</td>\n",
       "      <td>Broken_Cutting</td>\n",
       "      <td>Broken_Cutting_0</td>\n",
       "    </tr>\n",
       "    <tr>\n",
       "      <th>1562404</th>\n",
       "      <td>7518</td>\n",
       "      <td>-0.46</td>\n",
       "      <td>0.83</td>\n",
       "      <td>0.67</td>\n",
       "      <td>Test 10-Broken_Cutting/Test 10 - Merged.CSV</td>\n",
       "      <td>Test 10 - Merged.CSV</td>\n",
       "      <td>Broken_Cutting</td>\n",
       "      <td>Broken_Cutting_0</td>\n",
       "    </tr>\n",
       "  </tbody>\n",
       "</table>\n",
       "</div>"
      ],
      "text/plain": [
       "         millis     x     y     z  \\\n",
       "1562400    7518  0.37  1.08 -0.02   \n",
       "1562401    7518  0.03  1.86 -0.02   \n",
       "1562402    7518 -0.36  1.72  0.47   \n",
       "1562403    7518 -0.90  2.16  0.03   \n",
       "1562404    7518 -0.46  0.83  0.67   \n",
       "\n",
       "                                            filepath              filename  \\\n",
       "1562400  Test 10-Broken_Cutting/Test 10 - Merged.CSV  Test 10 - Merged.CSV   \n",
       "1562401  Test 10-Broken_Cutting/Test 10 - Merged.CSV  Test 10 - Merged.CSV   \n",
       "1562402  Test 10-Broken_Cutting/Test 10 - Merged.CSV  Test 10 - Merged.CSV   \n",
       "1562403  Test 10-Broken_Cutting/Test 10 - Merged.CSV  Test 10 - Merged.CSV   \n",
       "1562404  Test 10-Broken_Cutting/Test 10 - Merged.CSV  Test 10 - Merged.CSV   \n",
       "\n",
       "                  label             group  \n",
       "1562400  Broken_Cutting  Broken_Cutting_0  \n",
       "1562401  Broken_Cutting  Broken_Cutting_0  \n",
       "1562402  Broken_Cutting  Broken_Cutting_0  \n",
       "1562403  Broken_Cutting  Broken_Cutting_0  \n",
       "1562404  Broken_Cutting  Broken_Cutting_0  "
      ]
     },
     "execution_count": 52,
     "metadata": {},
     "output_type": "execute_result"
    }
   ],
   "source": [
    "df.head()"
   ]
  },
  {
   "cell_type": "code",
   "execution_count": 53,
   "metadata": {},
   "outputs": [],
   "source": [
    "# Save data to processed folder\n",
    "df.to_parquet(\"../../data/processed/processed.parquet\")\n",
    "del df"
   ]
  },
  {
   "cell_type": "markdown",
   "metadata": {},
   "source": [
    "### Load data from processed"
   ]
  },
  {
   "cell_type": "code",
   "execution_count": 54,
   "metadata": {},
   "outputs": [
    {
     "data": {
      "text/html": [
       "<div>\n",
       "<style scoped>\n",
       "    .dataframe tbody tr th:only-of-type {\n",
       "        vertical-align: middle;\n",
       "    }\n",
       "\n",
       "    .dataframe tbody tr th {\n",
       "        vertical-align: top;\n",
       "    }\n",
       "\n",
       "    .dataframe thead th {\n",
       "        text-align: right;\n",
       "    }\n",
       "</style>\n",
       "<table border=\"1\" class=\"dataframe\">\n",
       "  <thead>\n",
       "    <tr style=\"text-align: right;\">\n",
       "      <th></th>\n",
       "      <th>millis</th>\n",
       "      <th>x</th>\n",
       "      <th>y</th>\n",
       "      <th>z</th>\n",
       "      <th>filepath</th>\n",
       "      <th>filename</th>\n",
       "      <th>label</th>\n",
       "      <th>group</th>\n",
       "    </tr>\n",
       "  </thead>\n",
       "  <tbody>\n",
       "    <tr>\n",
       "      <th>1562400</th>\n",
       "      <td>7518</td>\n",
       "      <td>0.37</td>\n",
       "      <td>1.08</td>\n",
       "      <td>-0.02</td>\n",
       "      <td>Test 10-Broken_Cutting/Test 10 - Merged.CSV</td>\n",
       "      <td>Test 10 - Merged.CSV</td>\n",
       "      <td>Broken_Cutting</td>\n",
       "      <td>Broken_Cutting_0</td>\n",
       "    </tr>\n",
       "    <tr>\n",
       "      <th>1562401</th>\n",
       "      <td>7518</td>\n",
       "      <td>0.03</td>\n",
       "      <td>1.86</td>\n",
       "      <td>-0.02</td>\n",
       "      <td>Test 10-Broken_Cutting/Test 10 - Merged.CSV</td>\n",
       "      <td>Test 10 - Merged.CSV</td>\n",
       "      <td>Broken_Cutting</td>\n",
       "      <td>Broken_Cutting_0</td>\n",
       "    </tr>\n",
       "    <tr>\n",
       "      <th>1562402</th>\n",
       "      <td>7518</td>\n",
       "      <td>-0.36</td>\n",
       "      <td>1.72</td>\n",
       "      <td>0.47</td>\n",
       "      <td>Test 10-Broken_Cutting/Test 10 - Merged.CSV</td>\n",
       "      <td>Test 10 - Merged.CSV</td>\n",
       "      <td>Broken_Cutting</td>\n",
       "      <td>Broken_Cutting_0</td>\n",
       "    </tr>\n",
       "    <tr>\n",
       "      <th>1562403</th>\n",
       "      <td>7518</td>\n",
       "      <td>-0.90</td>\n",
       "      <td>2.16</td>\n",
       "      <td>0.03</td>\n",
       "      <td>Test 10-Broken_Cutting/Test 10 - Merged.CSV</td>\n",
       "      <td>Test 10 - Merged.CSV</td>\n",
       "      <td>Broken_Cutting</td>\n",
       "      <td>Broken_Cutting_0</td>\n",
       "    </tr>\n",
       "    <tr>\n",
       "      <th>1562404</th>\n",
       "      <td>7518</td>\n",
       "      <td>-0.46</td>\n",
       "      <td>0.83</td>\n",
       "      <td>0.67</td>\n",
       "      <td>Test 10-Broken_Cutting/Test 10 - Merged.CSV</td>\n",
       "      <td>Test 10 - Merged.CSV</td>\n",
       "      <td>Broken_Cutting</td>\n",
       "      <td>Broken_Cutting_0</td>\n",
       "    </tr>\n",
       "  </tbody>\n",
       "</table>\n",
       "</div>"
      ],
      "text/plain": [
       "         millis     x     y     z  \\\n",
       "1562400    7518  0.37  1.08 -0.02   \n",
       "1562401    7518  0.03  1.86 -0.02   \n",
       "1562402    7518 -0.36  1.72  0.47   \n",
       "1562403    7518 -0.90  2.16  0.03   \n",
       "1562404    7518 -0.46  0.83  0.67   \n",
       "\n",
       "                                            filepath              filename  \\\n",
       "1562400  Test 10-Broken_Cutting/Test 10 - Merged.CSV  Test 10 - Merged.CSV   \n",
       "1562401  Test 10-Broken_Cutting/Test 10 - Merged.CSV  Test 10 - Merged.CSV   \n",
       "1562402  Test 10-Broken_Cutting/Test 10 - Merged.CSV  Test 10 - Merged.CSV   \n",
       "1562403  Test 10-Broken_Cutting/Test 10 - Merged.CSV  Test 10 - Merged.CSV   \n",
       "1562404  Test 10-Broken_Cutting/Test 10 - Merged.CSV  Test 10 - Merged.CSV   \n",
       "\n",
       "                  label             group  \n",
       "1562400  Broken_Cutting  Broken_Cutting_0  \n",
       "1562401  Broken_Cutting  Broken_Cutting_0  \n",
       "1562402  Broken_Cutting  Broken_Cutting_0  \n",
       "1562403  Broken_Cutting  Broken_Cutting_0  \n",
       "1562404  Broken_Cutting  Broken_Cutting_0  "
      ]
     },
     "execution_count": 54,
     "metadata": {},
     "output_type": "execute_result"
    }
   ],
   "source": [
    "# Load data from processed\n",
    "df = pd.read_parquet(\"../../data/processed/processed.parquet\")\n",
    "df.head()"
   ]
  },
  {
   "cell_type": "markdown",
   "metadata": {},
   "source": [
    "## Split data in train and test"
   ]
  },
  {
   "cell_type": "code",
   "execution_count": 57,
   "metadata": {},
   "outputs": [],
   "source": [
    "from typing import Union\n",
    "\n",
    "def split_grouped_data(df: pd.DataFrame, time_series_splitter: Union[TimeSeriesSplit, KFold]) -> list:\n",
    "    # Drop columns that are not needed\n",
    "    df = df.drop(columns=[\"millis\", \"filepath\", \"filename\", \"group\"])\n",
    "\n",
    "    # Split into train and test\n",
    "    train_splits, test_splits = time_series_splitter.split(df)\n",
    "    return train_splits, test_splits\n",
    "\n",
    "def split_data(df: pd.DataFrame, n_splits: int = 2, groupby_cols=[\"group\"]) -> list:\n",
    "    # Split into train and test for each group\n",
    "    train_splits, train_labels, test_splits, test_labels = [], [], [], []\n",
    "    tss = KFold(n_splits=n_splits)\n",
    "\n",
    "    # Split data into groups and then split into test and train\n",
    "    for name, group in tqdm(df.groupby(groupby_cols)):\n",
    "        # Split into train and test\n",
    "        test_split, train_split = split_grouped_data(df=group, time_series_splitter=tss)\n",
    "        \n",
    "        # Get train and test data\n",
    "        train_data = group.iloc[train_split[0], :]\n",
    "        test_data = group.iloc[test_split[0], :]\n",
    "        \n",
    "        # Append to list\n",
    "        train_splits.append(train_data[[\"x\", \"y\", \"z\"]])\n",
    "        test_splits.append(test_data[[\"x\", \"y\", \"z\"]])\n",
    "        train_labels.append(train_data[\"label\"])\n",
    "        test_labels.append(test_data[\"label\"])\n",
    "    return train_splits, test_splits, train_labels, test_labels\n",
    "    "
   ]
  },
  {
   "cell_type": "code",
   "execution_count": 58,
   "metadata": {},
   "outputs": [
    {
     "name": "stderr",
     "output_type": "stream",
     "text": [
      "100%|██████████| 528/528 [00:01<00:00, 432.33it/s]\n"
     ]
    }
   ],
   "source": [
    "train_splits, test_splits, train_labels, test_labels = split_data(df, n_splits=2, groupby_cols=[\"group\"])"
   ]
  },
  {
   "cell_type": "code",
   "execution_count": 59,
   "metadata": {},
   "outputs": [
    {
     "name": "stdout",
     "output_type": "stream",
     "text": [
      "3000\n",
      "3000\n"
     ]
    }
   ],
   "source": [
    "print(len(train_splits[0]))\n",
    "print(len(test_splits[0]))"
   ]
  },
  {
   "cell_type": "code",
   "execution_count": 60,
   "metadata": {},
   "outputs": [
    {
     "data": {
      "text/plain": [
       "'Broken_Cutting'"
      ]
     },
     "execution_count": 60,
     "metadata": {},
     "output_type": "execute_result"
    }
   ],
   "source": [
    "train_labels[0].iloc[0]"
   ]
  },
  {
   "cell_type": "markdown",
   "metadata": {},
   "source": [
    "### Create datasets"
   ]
  },
  {
   "cell_type": "code",
   "execution_count": 61,
   "metadata": {},
   "outputs": [],
   "source": [
    "import torch\n",
    "from torch.autograd import Variable\n",
    "import torch.nn as nn\n",
    "import torch.nn.functional as F\n",
    "import torch.optim as optim\n",
    "import warnings\n",
    "\n",
    "with warnings.catch_warnings():\n",
    "    warnings.simplefilter(\"ignore\")\n",
    "\n",
    "batch_size = 32\n",
    "\n",
    "def create_datasets_from_splits(splits, labels):\n",
    "    iterable_datasets = []\n",
    "    for split in splits:\n",
    "        # Create pytorch dataset from split\n",
    "        dataset = torch.tensor(split.values, dtype=torch.float32)\n",
    "        iterable_datasets.append(dataset)\n",
    "    \n",
    "    # create dataloader from iterable_datasets\n",
    "    return torch.utils.data.DataLoader(iterable_datasets, batch_size=batch_size, shuffle=False)\n"
   ]
  },
  {
   "cell_type": "code",
   "execution_count": 62,
   "metadata": {},
   "outputs": [],
   "source": [
    "train_dataloader = create_datasets_from_splits(train_splits, train_labels)\n",
    "test_dataloader = create_datasets_from_splits(test_splits, test_labels)"
   ]
  },
  {
   "cell_type": "markdown",
   "metadata": {},
   "source": [
    "Enumerate labels"
   ]
  },
  {
   "cell_type": "code",
   "execution_count": 63,
   "metadata": {},
   "outputs": [],
   "source": [
    "id_to_label = dict(enumerate(set([x.iloc[0] for x in train_labels])))\n",
    "label_to_id = {v: k for k, v in id_to_label.items()}"
   ]
  },
  {
   "cell_type": "code",
   "execution_count": 64,
   "metadata": {},
   "outputs": [
    {
     "name": "stdout",
     "output_type": "stream",
     "text": [
      "torch.Size([32, 3000, 3])\n"
     ]
    }
   ],
   "source": [
    "for i, d in enumerate(train_dataloader):\n",
    "    print(d.shape)\n",
    "    break"
   ]
  },
  {
   "cell_type": "markdown",
   "metadata": {},
   "source": [
    "### Convolutional model"
   ]
  },
  {
   "cell_type": "code",
   "execution_count": 65,
   "metadata": {},
   "outputs": [],
   "source": [
    "class _SepConv1d(nn.Module):\n",
    "    \"\"\"A simple separable convolution implementation.\n",
    "    \n",
    "    The separable convlution is a method to reduce number of the parameters \n",
    "    in the deep learning network for slight decrease in predictions quality.\n",
    "    \"\"\"\n",
    "    def __init__(self, ni, no, kernel, stride, pad):\n",
    "        super().__init__()\n",
    "        self.depthwise = nn.Conv1d(ni, ni, kernel, stride, padding=pad, groups=ni)\n",
    "        self.pointwise = nn.Conv1d(ni, no, kernel_size=1)\n",
    "\n",
    "    def forward(self, x):\n",
    "        return self.pointwise(self.depthwise(x))\n",
    "\n",
    "class SepConv1d(nn.Module):\n",
    "    \"\"\"Implementes a 1-d convolution with 'batteries included'.\n",
    "    \n",
    "    The module adds (optionally) activation function and dropout layers right after\n",
    "    a separable convolution layer.\n",
    "    \"\"\"\n",
    "    def __init__(self, ni, no, kernel, stride, pad, drop=None,\n",
    "                 activ=lambda: nn.ReLU(inplace=True)):\n",
    "    \n",
    "        super().__init__()\n",
    "        assert drop is None or (0.0 < drop < 1.0)\n",
    "        layers = [_SepConv1d(ni, no, kernel, stride, pad)]\n",
    "        if activ:\n",
    "            layers.append(activ())\n",
    "        if drop is not None:\n",
    "            layers.append(nn.Dropout(drop))\n",
    "        self.layers = nn.Sequential(*layers)\n",
    "        \n",
    "    def forward(self, x): \n",
    "        return self.layers(x)\n",
    "\n",
    "class Flatten(nn.Module):\n",
    "    \"\"\"Converts N-dimensional tensor into 'flat' one.\"\"\"\n",
    "\n",
    "    def __init__(self, keep_batch_dim=True):\n",
    "        super().__init__()\n",
    "        self.keep_batch_dim = keep_batch_dim\n",
    "\n",
    "    def forward(self, x):\n",
    "        if self.keep_batch_dim:\n",
    "            return x.view(x.size(0), -1)\n",
    "        return x.view(-1)\n",
    "\n",
    "\n",
    "class Classifier(nn.Module):\n",
    "    def __init__(self, input_dim, number_of_classes, drop=.1):\n",
    "        super().__init__()\n",
    "        \n",
    "        self.raw = nn.Sequential(\n",
    "            SepConv1d(input_dim,  32, 8, 2, 3, drop=drop),\n",
    "            SepConv1d(    32,  64, 8, 4, 2, drop=drop),\n",
    "            SepConv1d(    64, 128, 8, 4, 2, drop=drop),\n",
    "            SepConv1d(   128, 256, 8, 4, 2),\n",
    "            Flatten(),\n",
    "            nn.Dropout(drop), nn.Linear(5888, 1024), nn.ReLU(inplace=True),\n",
    "            nn.Dropout(drop), nn.Linear(1024, 512), nn.ReLU(inplace=True),\n",
    "            nn.Dropout(drop), nn.Linear( 512, 128), nn.ReLU(inplace=True))\n",
    "        \n",
    "        self.out = nn.Sequential(\n",
    "            nn.Linear(128, 64), nn.ReLU(inplace=True), nn.Linear(64, number_of_classes))\n",
    "        \n",
    "    def forward(self, input_):\n",
    "        # reorder dimensions to (batch_size, channels, sequence_length)\n",
    "        input_ = input_.permute(0, 2, 1)\n",
    "        raw_out = self.raw(input_)\n",
    "        out = self.out(raw_out)\n",
    "        return out"
   ]
  },
  {
   "cell_type": "markdown",
   "metadata": {},
   "source": [
    "## Train\n"
   ]
  },
  {
   "cell_type": "code",
   "execution_count": 66,
   "metadata": {},
   "outputs": [],
   "source": [
    "torch.cuda.get_device_name(0)\n",
    "device = torch.device(\"cuda:0\" if torch.cuda.is_available() else \"cpu\")"
   ]
  },
  {
   "cell_type": "code",
   "execution_count": 67,
   "metadata": {},
   "outputs": [
    {
     "name": "stdout",
     "output_type": "stream",
     "text": [
      "Start model training\n",
      "Epoch:   1. Loss: 61.9466. Acc.: 21.69%\n",
      "Epoch 1 best model saved with accuracy: 21.69%\n",
      "Epoch:   2. Loss: 56.2976. Acc.: 21.69%\n",
      "Epoch:   4. Loss: 55.2744. Acc.: 21.69%\n",
      "Epoch 5 best model saved with accuracy: 21.88%\n",
      "Epoch 7 best model saved with accuracy: 27.39%\n",
      "Epoch:   8. Loss: 47.9344. Acc.: 27.39%\n",
      "Epoch 9 best model saved with accuracy: 48.90%\n",
      "Epoch:  16. Loss: 41.3334. Acc.: 48.90%\n",
      "Epoch:  32. Loss: 30.5388. Acc.: 48.90%\n",
      "Epoch 44 best model saved with accuracy: 49.82%\n",
      "Epoch 53 best model saved with accuracy: 58.64%\n",
      "Epoch 60 best model saved with accuracy: 67.83%\n",
      "Epoch:  64. Loss: 33.5242. Acc.: 66.54%\n",
      "Epoch 70 best model saved with accuracy: 71.51%\n",
      "Epoch 79 best model saved with accuracy: 72.98%\n",
      "Epoch 83 best model saved with accuracy: 73.35%\n",
      "Epoch 92 best model saved with accuracy: 73.53%\n",
      "Epoch 101 best model saved with accuracy: 75.00%\n",
      "Epoch 112 best model saved with accuracy: 75.55%\n",
      "Epoch 115 best model saved with accuracy: 75.74%\n",
      "Epoch: 128. Loss: 11.6276. Acc.: 74.63%\n",
      "Epoch 141 best model saved with accuracy: 75.92%\n",
      "Epoch 142 best model saved with accuracy: 77.21%\n",
      "Epoch 186 best model saved with accuracy: 77.57%\n",
      "Epoch: 256. Loss: 11.1811. Acc.: 73.16%\n",
      "Epoch 307 best model saved with accuracy: 79.23%\n",
      "Epoch 393 best model saved with accuracy: 79.96%\n",
      "Epoch 402 best model saved with accuracy: 81.62%\n",
      "Epoch 423 best model saved with accuracy: 83.82%\n",
      "Epoch 436 best model saved with accuracy: 85.85%\n",
      "Epoch 452 best model saved with accuracy: 86.95%\n",
      "Epoch 454 best model saved with accuracy: 87.13%\n",
      "Epoch 458 best model saved with accuracy: 88.24%\n",
      "Epoch: 512. Loss: 4.0732. Acc.: 87.87%\n",
      "Epoch 522 best model saved with accuracy: 88.42%\n",
      "Epoch 528 best model saved with accuracy: 89.15%\n",
      "Epoch 639 best model saved with accuracy: 92.10%\n",
      "Epoch 690 best model saved with accuracy: 92.46%\n",
      "Epoch 691 best model saved with accuracy: 92.83%\n",
      "Epoch 692 best model saved with accuracy: 93.01%\n",
      "Epoch 693 best model saved with accuracy: 93.20%\n",
      "Epoch: 1024. Loss: 0.4534. Acc.: 92.83%\n",
      "Epoch 1062 best model saved with accuracy: 93.57%\n",
      "Epoch 1099 best model saved with accuracy: 94.30%\n",
      "Epoch 1273 best model saved with accuracy: 94.49%\n",
      "Epoch 1341 best model saved with accuracy: 94.67%\n",
      "Early stopping on epoch 1841\n",
      "Done!\n"
     ]
    }
   ],
   "source": [
    "lr = 0.001\n",
    "n_epochs = 4000\n",
    "iterations_per_epoch = len(train_dataloader)\n",
    "num_classes = len(id_to_label)\n",
    "best_acc = 0\n",
    "patience, trials = 500, 0\n",
    "base = 1\n",
    "step = 2\n",
    "loss_history = []\n",
    "acc_history = []\n",
    "drop = 0.25\n",
    "drop_str = str(drop).replace('.', '_')\n",
    "\n",
    "\n",
    "model_name = 'cnn'\n",
    "if model_name == 'cnn':\n",
    "    model = Classifier(3, num_classes, drop=drop).to(device)\n",
    "\n",
    "\n",
    "criterion = nn.CrossEntropyLoss(reduction='sum')\n",
    "opt = optim.Adam(model.parameters(), lr=lr)\n",
    "\n",
    "print('Start model training')\n",
    "\n",
    "for epoch in range(1, n_epochs + 1):\n",
    "    \n",
    "    model.train()\n",
    "    epoch_loss = 0\n",
    "    for i, batch in enumerate(train_dataloader):\n",
    "        input = batch.to(device)\n",
    "        label = torch.tensor([label_to_id[train_labels[(i*batch_size)+b-1].iloc[0]] for b in range(len(batch))]).to(device)\n",
    "        assert len(input) == len(label)\n",
    "        opt.zero_grad()\n",
    "        output = model(input)\n",
    "        loss = criterion(output, label)\n",
    "        epoch_loss += loss.item()\n",
    "        loss.backward()\n",
    "        opt.step()\n",
    "        \n",
    "    epoch_loss /= iterations_per_epoch\n",
    "    loss_history.append(epoch_loss)\n",
    "    \n",
    "    model.eval()\n",
    "    correct, total = 0, 0\n",
    "    for i, batch in enumerate(test_dataloader):\n",
    "        input = batch.to(device)\n",
    "        label = torch.tensor([label_to_id[train_labels[(i*batch_size)+b-1].iloc[0]] for b in range(len(batch))]).to(device)\n",
    "        assert len(input) == len(label)\n",
    "        output = model(input)\n",
    "        preds = F.log_softmax(output, dim=1).argmax(dim=1)\n",
    "        total += batch_size\n",
    "        correct += (preds == label).sum().item()\n",
    "    \n",
    "    acc = correct / total\n",
    "    acc_history.append(acc)\n",
    "\n",
    "    if epoch % base == 0:\n",
    "        print(f'Epoch: {epoch:3d}. Loss: {epoch_loss:.4f}. Acc.: {acc:2.2%}')\n",
    "        base *= step\n",
    "\n",
    "    if acc > best_acc:\n",
    "        trials = 0\n",
    "        best_acc = acc\n",
    "        torch.save(model.state_dict(), f'models/best–model{model_name}-lr{lr}-batch{batch_size}.pth')\n",
    "        print(f'Epoch {epoch} best model saved with accuracy: {best_acc:2.2%}')\n",
    "    else:\n",
    "        trials += 1\n",
    "        if trials >= patience:\n",
    "            print(f'Early stopping on epoch {epoch}')\n",
    "            break\n",
    "            \n",
    "print('Done!')"
   ]
  },
  {
   "cell_type": "markdown",
   "metadata": {},
   "source": [
    "## Plots"
   ]
  },
  {
   "cell_type": "code",
   "execution_count": 68,
   "metadata": {},
   "outputs": [],
   "source": [
    "def smooth(y, box_pts):\n",
    "    box = np.ones(box_pts)/box_pts\n",
    "    y_smooth = np.convolve(y, box, mode='same')\n",
    "    return y_smooth"
   ]
  },
  {
   "cell_type": "code",
   "execution_count": 69,
   "metadata": {},
   "outputs": [
    {
     "data": {
      "image/png": "[encoded data removed]",
      "text/plain": [
       "<Figure size 1200x400 with 2 Axes>"
      ]
     },
     "metadata": {},
     "output_type": "display_data"
    }
   ],
   "source": [
    "\n",
    "f, ax = plt.subplots(1, 2, figsize=(12, 4))\n",
    "\n",
    "ax[0].plot(loss_history, label='loss')\n",
    "ax[0].set_title('Validation Loss History')\n",
    "ax[0].set_xlabel('Epoch no.')\n",
    "ax[0].set_ylabel('Loss')\n",
    "\n",
    "ax[1].plot(smooth(acc_history, 5)[:-2], label='acc')\n",
    "ax[1].set_title('Validation Accuracy History')\n",
    "ax[1].set_xlabel('Epoch no.')\n",
    "ax[1].set_ylabel('Accuracy');\n",
    "\n",
    "plt.savefig(f'plots/loss-model{model_name}-lr{lr}-batch{batch_size}-drop{drop_str}.png')"
   ]
  },
  {
   "cell_type": "markdown",
   "metadata": {},
   "source": [
    "### Confusion matrix"
   ]
  },
  {
   "cell_type": "code",
   "execution_count": 70,
   "metadata": {},
   "outputs": [],
   "source": [
    "test_results = []\n",
    "model.load_state_dict(torch.load(f'models/best–model{model_name}-lr{lr}-batch{batch_size}.pth'))\n",
    "model.eval()\n",
    "for input_ in test_dataloader:\n",
    "    input_ = input_.to(device)\n",
    "    out = model(input_)\n",
    "    output = F.log_softmax(out, dim=1).argmax(dim=1)\n",
    "    test_results.extend(output.detach().cpu().numpy())"
   ]
  },
  {
   "cell_type": "code",
   "execution_count": 71,
   "metadata": {},
   "outputs": [
    {
     "data": {
      "text/plain": [
       "528"
      ]
     },
     "execution_count": 71,
     "metadata": {},
     "output_type": "execute_result"
    }
   ],
   "source": [
    "len(test_results)"
   ]
  },
  {
   "cell_type": "code",
   "execution_count": 72,
   "metadata": {},
   "outputs": [
    {
     "data": {
      "text/plain": [
       "dict_keys(['Missing_Cutting', 'Missing_Idle', 'Healthy_Cutting', 'Broken_Cutting', 'Healthy_Idle', 'Broken_Idle'])"
      ]
     },
     "execution_count": 72,
     "metadata": {},
     "output_type": "execute_result"
    }
   ],
   "source": [
    "label_to_id.keys()"
   ]
  },
  {
   "cell_type": "code",
   "execution_count": 73,
   "metadata": {},
   "outputs": [
    {
     "data": {
      "text/plain": [
       "['Missing_Cutting',\n",
       " 'Missing_Idle',\n",
       " 'Healthy_Cutting',\n",
       " 'Broken_Cutting',\n",
       " 'Healthy_Idle',\n",
       " 'Broken_Idle']"
      ]
     },
     "execution_count": 73,
     "metadata": {},
     "output_type": "execute_result"
    }
   ],
   "source": [
    "list(label_to_id.keys())"
   ]
  },
  {
   "cell_type": "code",
   "execution_count": 75,
   "metadata": {},
   "outputs": [
    {
     "data": {
      "image/png": "[encoded data removed]",
      "text/plain": [
       "<Figure size 1000x1000 with 2 Axes>"
      ]
     },
     "metadata": {},
     "output_type": "display_data"
    }
   ],
   "source": [
    "from sklearn import metrics\n",
    "from sklearn.metrics import confusion_matrix\n",
    "\n",
    "y_pred = [id_to_label[x] for x in test_results]\n",
    "y_true = [train_labels[i].iloc[0] for i in range(len(train_labels))]\n",
    "\n",
    "cm = confusion_matrix(y_true, y_pred, labels=list(label_to_id.keys()))\n",
    "cm_display = metrics.ConfusionMatrixDisplay(confusion_matrix = cm, display_labels = list(label_to_id.keys()))\n",
    "\n",
    "fig, ax = plt.subplots(figsize=(10,10))\n",
    "cm_display.plot(ax=ax)\n",
    "plt.xticks(rotation = 45)\n",
    "plt.savefig(f'plots/confusion-matrix-model{model_name}-lr{lr}-batch{batch_size}.pth.png')"
   ]
  },
  {
   "cell_type": "code",
   "execution_count": 71,
   "metadata": {},
   "outputs": [
    {
     "data": {
      "text/plain": [
       "'best–lr0.005-batch32-hiddendim8-numlayer8.pth'"
      ]
     },
     "execution_count": 71,
     "metadata": {},
     "output_type": "execute_result"
    }
   ],
   "source": [
    "f'best–lr{lr}-batch{batch_size}-hiddendim{hidden_dim}-numlayer{num_layers}.pth'"
   ]
  },
  {
   "cell_type": "code",
   "execution_count": null,
   "metadata": {},
   "outputs": [],
   "source": []
  }
 ],
 "metadata": {
  "kernelspec": {
   "display_name": "Python 3.8.13 ('base')",
   "language": "python",
   "name": "python3"
  },
  "language_info": {
   "codemirror_mode": {
    "name": "ipython",
    "version": 3
   },
   "file_extension": ".py",
   "mimetype": "text/x-python",
   "name": "python",
   "nbconvert_exporter": "python",
   "pygments_lexer": "ipython3",
   "version": "3.8.13"
  },
  "orig_nbformat": 4,
  "vscode": {
   "interpreter": {
    "hash": "d4d1e4263499bec80672ea0156c357c1ee493ec2b1c70f0acce89fc37c4a6abe"
   }
  }
 },
 "nbformat": 4,
 "nbformat_minor": 2
}
